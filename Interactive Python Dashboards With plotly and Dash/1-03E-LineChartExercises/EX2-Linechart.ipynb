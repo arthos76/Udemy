{
 "cells": [
  {
   "cell_type": "code",
   "execution_count": 18,
   "metadata": {
    "scrolled": true
   },
   "outputs": [
    {
     "data": {
      "text/plain": [
       "'file:///home/alex/Desktop/Udemy/Udemy/Udemy/Interactive Python Dashboards With plotly and Dash/1-03E-LineChartExercises/Temperature.html'"
      ]
     },
     "execution_count": 18,
     "metadata": {},
     "output_type": "execute_result"
    }
   ],
   "source": [
    "#######\n",
    "# Objective: Using the file 2010YumaAZ.csv, develop a Line Chart\n",
    "# that plots seven days worth of temperature data on one graph.\n",
    "# You can use a for loop to assign each day to its own trace.\n",
    "######\n",
    "\n",
    "# Perform imports here:\n",
    "import pandas as pd\n",
    "import numpy as np\n",
    "import plotly.offline as pyo\n",
    "import plotly.graph_objs as go\n",
    "\n",
    "\n",
    "\n",
    "# Create a pandas DataFrame from 2010YumaAZ.csv\n",
    "df = pd.read_csv('../Data/2010YumaAZ.csv')\n",
    "days = ['TUESDAY','WEDNESDAY','THURSDAY','FRIDAY','SATURDAY','SUNDAY','MONDAY']\n",
    "df.set_index('DAY',inplace=True)\n",
    "\n",
    "\n",
    "# Use a for loop (or list comprehension to create traces for the data list)\n",
    "data = [go.Scatter(x=df.loc[day].LST_TIME,y=df.loc[day].T_HR_AVG,mode='markers+lines',name= day) for day in days ]\n",
    "\n",
    "#for day in days:\n",
    "    # What should go inside this Scatter call?\n",
    "#    trace = go.Scatter( x=df.loc[day].LST_TIME,\n",
    "#                        y=df.loc[day].T_HR_AVG,\n",
    "#                        mode=\"markers+lines\",\n",
    "#                        name=day)\n",
    "#    data.append(trace)\n",
    "\n",
    "# Define the layout\n",
    "\n",
    "layout = go.Layout(title=\"Daily temperatures from June 1-7, 2010 in Yuma, Arizona\",\n",
    "    hovermode='closest'\n",
    ")\n",
    "\n",
    "\n",
    "\n",
    "# Create a fig from data and layout, and plot the fig\n",
    "\n",
    "fig = go.Figure(data=data,layout=layout)\n",
    "pyo.plot(fig, filename='Temperature.html')"
   ]
  },
  {
   "cell_type": "code",
   "execution_count": null,
   "metadata": {},
   "outputs": [],
   "source": []
  }
 ],
 "metadata": {
  "kernelspec": {
   "display_name": "Python 3",
   "language": "python",
   "name": "python3"
  },
  "language_info": {
   "codemirror_mode": {
    "name": "ipython",
    "version": 3
   },
   "file_extension": ".py",
   "mimetype": "text/x-python",
   "name": "python",
   "nbconvert_exporter": "python",
   "pygments_lexer": "ipython3",
   "version": "3.6.6"
  }
 },
 "nbformat": 4,
 "nbformat_minor": 2
}
