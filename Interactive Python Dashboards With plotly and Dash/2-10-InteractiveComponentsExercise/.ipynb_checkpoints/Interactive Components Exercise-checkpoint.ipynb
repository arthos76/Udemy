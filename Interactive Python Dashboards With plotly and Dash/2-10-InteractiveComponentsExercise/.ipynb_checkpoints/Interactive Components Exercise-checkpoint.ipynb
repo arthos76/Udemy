{
 "cells": [
  {
   "cell_type": "code",
   "execution_count": 4,
   "metadata": {},
   "outputs": [
    {
     "ename": "ModuleNotFoundError",
     "evalue": "No module named 'dash_core_components'",
     "output_type": "error",
     "traceback": [
      "\u001b[0;31m---------------------------------------------------------------------------\u001b[0m",
      "\u001b[0;31mModuleNotFoundError\u001b[0m                       Traceback (most recent call last)",
      "\u001b[0;32m<ipython-input-4-a9925b5b1784>\u001b[0m in \u001b[0;36m<module>\u001b[0;34m\u001b[0m\n\u001b[1;32m      7\u001b[0m \u001b[0;32mimport\u001b[0m \u001b[0mpandas\u001b[0m \u001b[0;32mas\u001b[0m \u001b[0mpd\u001b[0m\u001b[0;34m\u001b[0m\u001b[0m\n\u001b[1;32m      8\u001b[0m \u001b[0;32mimport\u001b[0m \u001b[0mdash\u001b[0m\u001b[0;34m\u001b[0m\u001b[0m\n\u001b[0;32m----> 9\u001b[0;31m \u001b[0;32mimport\u001b[0m \u001b[0mdash_core_components\u001b[0m \u001b[0;32mas\u001b[0m \u001b[0mdcc\u001b[0m\u001b[0;34m\u001b[0m\u001b[0m\n\u001b[0m\u001b[1;32m     10\u001b[0m \u001b[0;32mimport\u001b[0m \u001b[0mdash_html_components\u001b[0m \u001b[0;32mas\u001b[0m \u001b[0mhtlm\u001b[0m\u001b[0;34m\u001b[0m\u001b[0m\n\u001b[1;32m     11\u001b[0m \u001b[0;32mfrom\u001b[0m \u001b[0mdash\u001b[0m\u001b[0;34m.\u001b[0m\u001b[0mdependencies\u001b[0m \u001b[0;32mimport\u001b[0m \u001b[0mInput\u001b[0m\u001b[0;34m,\u001b[0m\u001b[0mOutput\u001b[0m\u001b[0;34m\u001b[0m\u001b[0m\n",
      "\u001b[0;31mModuleNotFoundError\u001b[0m: No module named 'dash_core_components'"
     ]
    }
   ],
   "source": [
    "#######\n",
    "# Objective: Create a dashboard that takes in two or more\n",
    "# input values and returns their product as the output.\n",
    "######\n",
    "\n",
    "# Perform imports here:\n",
    "import pandas as pd\n",
    "import dash \n",
    "import dash_core_components as dcc\n",
    "import dash_html_components as htlm\n",
    "from dash.dependencies import Input,Output\n",
    "\n",
    "# Launch the application:\n",
    "\n",
    "app = dash.Dash()\n",
    "\n",
    "# Create a Dash layout that contains input components\n",
    "# and at least one output. Assign IDs to each component:\n",
    "\n",
    "app.layout = html.Div([\n",
    "                dcc.RangeSlider(id=\"range-slider\",\n",
    "                                min=-10,\n",
    "                                max=10,\n",
    "                                marks={i:str(i) for i in range(-10,11)},\n",
    "                                value=[-1,1]),\n",
    "                html.H1(id=\"product\")\n",
    "])\n",
    "\n",
    "\n",
    "# Create a Dash callback:\n",
    "\n",
    "@app.callback(output(\"product\",\"children\")\n",
    "              [input(\"range-slider\",\"value\")])\n",
    "\n",
    "def update_value(value_list):\n",
    "    return value_list[0] * value_list[1]\n",
    "\n",
    "\n",
    "\n",
    "# Add the server clause:\n",
    "if __name__ == \"__main__\":\n",
    "    app.run()"
   ]
  },
  {
   "cell_type": "code",
   "execution_count": null,
   "metadata": {},
   "outputs": [],
   "source": []
  }
 ],
 "metadata": {
  "kernelspec": {
   "display_name": "Python 3",
   "language": "python",
   "name": "python3"
  },
  "language_info": {
   "codemirror_mode": {
    "name": "ipython",
    "version": 3
   },
   "file_extension": ".py",
   "mimetype": "text/x-python",
   "name": "python",
   "nbconvert_exporter": "python",
   "pygments_lexer": "ipython3",
   "version": "3.6.6"
  }
 },
 "nbformat": 4,
 "nbformat_minor": 2
}
