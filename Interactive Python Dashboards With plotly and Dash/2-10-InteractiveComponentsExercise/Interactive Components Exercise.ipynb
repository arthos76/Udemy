{
 "cells": [
  {
   "cell_type": "code",
   "execution_count": null,
   "metadata": {},
   "outputs": [
    {
     "name": "stdout",
     "output_type": "stream",
     "text": [
      " * Serving Flask app \"__main__\" (lazy loading)\n",
      " * Environment: production\n",
      "   WARNING: Do not use the development server in a production environment.\n",
      "   Use a production WSGI server instead.\n",
      " * Debug mode: off\n"
     ]
    },
    {
     "name": "stderr",
     "output_type": "stream",
     "text": [
      " * Running on http://127.0.0.1:8050/ (Press CTRL+C to quit)\n",
      "127.0.0.1 - - [05/Nov/2018 23:03:25] \"\u001b[37mGET / HTTP/1.1\u001b[0m\" 200 -\n",
      "127.0.0.1 - - [05/Nov/2018 23:03:27] \"\u001b[37mGET /_dash-layout HTTP/1.1\u001b[0m\" 200 -\n",
      "127.0.0.1 - - [05/Nov/2018 23:03:27] \"\u001b[37mGET /_dash-dependencies HTTP/1.1\u001b[0m\" 200 -\n",
      "127.0.0.1 - - [05/Nov/2018 23:03:27] \"\u001b[37mGET /_favicon.ico HTTP/1.1\u001b[0m\" 200 -\n",
      "127.0.0.1 - - [05/Nov/2018 23:03:27] \"\u001b[37mPOST /_dash-update-component HTTP/1.1\u001b[0m\" 200 -\n",
      "127.0.0.1 - - [05/Nov/2018 23:03:30] \"\u001b[37mPOST /_dash-update-component HTTP/1.1\u001b[0m\" 200 -\n",
      "127.0.0.1 - - [05/Nov/2018 23:03:33] \"\u001b[37mPOST /_dash-update-component HTTP/1.1\u001b[0m\" 200 -\n"
     ]
    }
   ],
   "source": [
    "#######\n",
    "# Objective: Create a dashboard that takes in two or more\n",
    "# input values and returns their product as the output.\n",
    "######\n",
    "\n",
    "# Perform imports here:\n",
    "import pandas as pd\n",
    "import dash \n",
    "import dash_core_components as dcc\n",
    "import dash_html_components as html\n",
    "from dash.dependencies import Input,Output\n",
    "\n",
    "# Launch the application:\n",
    "\n",
    "app = dash.Dash()\n",
    "\n",
    "# Create a Dash layout that contains input components\n",
    "# and at least one output. Assign IDs to each component:\n",
    "\n",
    "app.layout = html.Div([\n",
    "                dcc.RangeSlider(id=\"range-slider\",\n",
    "                                min=-10,\n",
    "                                max=10,\n",
    "                                marks={i:str(i) for i in range(-10,11)},\n",
    "                                value=[-1,1]),\n",
    "                html.H1(id=\"product\")\n",
    "])\n",
    "\n",
    "\n",
    "# Create a Dash callback:\n",
    "\n",
    "@app.callback(Output(\"product\",\"children\"),\n",
    "              [Input(\"range-slider\",\"value\")])\n",
    "\n",
    "def update_value(value_list):\n",
    "    return value_list[0] * value_list[1]\n",
    "\n",
    "\n",
    "\n",
    "# Add the server clause:\n",
    "if __name__ == \"__main__\":\n",
    "    app.run_server()"
   ]
  },
  {
   "cell_type": "code",
   "execution_count": null,
   "metadata": {},
   "outputs": [],
   "source": []
  }
 ],
 "metadata": {
  "kernelspec": {
   "display_name": "Python 3",
   "language": "python",
   "name": "python3"
  },
  "language_info": {
   "codemirror_mode": {
    "name": "ipython",
    "version": 3
   },
   "file_extension": ".py",
   "mimetype": "text/x-python",
   "name": "python",
   "nbconvert_exporter": "python",
   "pygments_lexer": "ipython3",
   "version": "3.6.6"
  }
 },
 "nbformat": 4,
 "nbformat_minor": 2
}
