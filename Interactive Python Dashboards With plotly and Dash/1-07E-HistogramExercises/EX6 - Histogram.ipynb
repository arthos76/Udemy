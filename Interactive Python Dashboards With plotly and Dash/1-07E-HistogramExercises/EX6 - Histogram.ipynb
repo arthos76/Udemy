{
 "cells": [
  {
   "cell_type": "code",
   "execution_count": 3,
   "metadata": {},
   "outputs": [
    {
     "data": {
      "text/plain": [
       "'file:///home/alex/Bureau/Udemy/Udemy/Interactive Python Dashboards With plotly and Dash/1-07E-HistogramExercises/temp-plot.html'"
      ]
     },
     "execution_count": 3,
     "metadata": {},
     "output_type": "execute_result"
    }
   ],
   "source": [
    "#######\n",
    "# Objective: Create a histogram that plots the 'length' field\n",
    "# from the Abalone dataset (../data/abalone.csv).\n",
    "# Set the range from 0 to 1, with a bin size of 0.02\n",
    "######\n",
    "\n",
    "# Perform imports here:\n",
    "import pandas as pd\n",
    "import numpy as np\n",
    "import plotly.offline as pyo\n",
    "import plotly.graph_objs as go\n",
    "\n",
    "# create a DataFrame from the .csv file:\n",
    "df = pd.read_csv(\"../Data/abalone.csv\")\n",
    "\n",
    "# create a data variable:\n",
    "\n",
    "data = ([\n",
    "    go.Histogram(\n",
    "        x=df[\"length\"],\n",
    "        name=\"length\",\n",
    "        xbins=dict(\n",
    "                start=0,\n",
    "                end=1,\n",
    "                size=0.02))\n",
    "])\n",
    "\n",
    "# add a layout\n",
    "\n",
    "layout = go.Layout(title=\"length - Histogram EX6\")\n",
    "\n",
    "# create a fig from data & layout, and plot the fig\n",
    "\n",
    "fig = go.Figure(data=data,layout=layout)\n",
    "pyo.plot(fig,\"length - Histogram EX6.html\")\n"
   ]
  }
 ],
 "metadata": {
  "kernelspec": {
   "display_name": "Python 3",
   "language": "python",
   "name": "python3"
  },
  "language_info": {
   "codemirror_mode": {
    "name": "ipython",
    "version": 3
   },
   "file_extension": ".py",
   "mimetype": "text/x-python",
   "name": "python",
   "nbconvert_exporter": "python",
   "pygments_lexer": "ipython3",
   "version": "3.6.6"
  }
 },
 "nbformat": 4,
 "nbformat_minor": 2
}
