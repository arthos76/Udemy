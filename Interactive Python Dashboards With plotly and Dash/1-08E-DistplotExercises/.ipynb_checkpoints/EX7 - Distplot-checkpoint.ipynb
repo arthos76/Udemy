{
 "cells": [
  {
   "cell_type": "code",
   "execution_count": 24,
   "metadata": {
    "scrolled": true
   },
   "outputs": [
    {
     "data": {
      "text/plain": [
       "'file:///home/alex/Bureau/Udemy/Udemy/Interactive Python Dashboards With plotly and Dash/1-08E-DistplotExercises/temp-plot.html'"
      ]
     },
     "execution_count": 24,
     "metadata": {},
     "output_type": "execute_result"
    }
   ],
   "source": [
    "#######\n",
    "# Objective: Using the iris dataset, develop a Distplot\n",
    "# that compares the petal lengths of each class.\n",
    "# File: '../data/iris.csv'\n",
    "# Fields: 'sepal_length','sepal_width','petal_length','petal_width','class'\n",
    "# Classes: 'Iris-setosa','Iris-versicolor','Iris-virginica'\n",
    "######\n",
    "\n",
    "# Perform imports here:\n",
    "import pandas as pd\n",
    "import numpy as np\n",
    "import plotly.offline as pyo\n",
    "import plotly.figure_factory as ff\n",
    "\n",
    "# create a DataFrame from the .csv file:\n",
    "df = pd.read_csv(\"../Data/iris.csv\")\n",
    "\n",
    "# Define the traces\n",
    "\n",
    "\n",
    "\n",
    "# HINT:\n",
    "# This grabs the petal_length column for a particular flower\n",
    "hist_data = []\n",
    "for flower in df[\"class\"].unique():\n",
    "    \n",
    "    hist_data.append(df[df[\"class\"] == flower]['petal_length'])\n",
    "\n",
    "\n",
    "# Define a data variable\n",
    "\n",
    "group_label = df[\"class\"].unique()\n",
    "\n",
    "# Create a fig from data and layout, and plot the fig\n",
    "fig = ff.create_distplot(hist_data, group_label,bin_size=[0.1,0.1,0.1])\n",
    "fig['layout'].update(title='Comparation between the classes')\n",
    "\n",
    "pyo.plot(fig,\"Comparation between the classes EX7.html\")"
   ]
  }
 ],
 "metadata": {
  "kernelspec": {
   "display_name": "Python 3",
   "language": "python",
   "name": "python3"
  },
  "language_info": {
   "codemirror_mode": {
    "name": "ipython",
    "version": 3
   },
   "file_extension": ".py",
   "mimetype": "text/x-python",
   "name": "python",
   "nbconvert_exporter": "python",
   "pygments_lexer": "ipython3",
   "version": "3.6.6"
  }
 },
 "nbformat": 4,
 "nbformat_minor": 2
}
