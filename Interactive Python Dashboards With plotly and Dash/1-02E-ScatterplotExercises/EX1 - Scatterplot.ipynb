{
 "cells": [
  {
   "cell_type": "code",
   "execution_count": 7,
   "metadata": {},
   "outputs": [
    {
     "data": {
      "text/plain": [
       "'file:///home/alex/Desktop/Udemy/Udemy/Udemy/Interactive Python Dashboards With plotly and Dash/1-02E-ScatterplotExercises/EX1-Scatterplot.html'"
      ]
     },
     "execution_count": 7,
     "metadata": {},
     "output_type": "execute_result"
    }
   ],
   "source": [
    "#######\n",
    "# Objective: Create a scatterplot of 1000 random data points.\n",
    "# x-axis values should come from a normal distribution using\n",
    "# np.random.randn(1000)\n",
    "# y-axis values should come from a uniform distribution over [0,1) using\n",
    "# np.random.rand(1000)\n",
    "######\n",
    "\n",
    "# Perform imports here:\n",
    "import pandas as pd\n",
    "import numpy as np\n",
    "import plotly.offline as pyo\n",
    "import plotly.graph_objs as go\n",
    "\n",
    "# Define a data variable\n",
    "np.random.seed(42)\n",
    "X = np.random.randint(1,101,100)\n",
    "Y = np.random.randint(1,101,100)\n",
    "\n",
    "\n",
    "# Define the layout\n",
    "\n",
    "data = [go.Scatter(\n",
    "        x = X,\n",
    "        y = Y,\n",
    "        mode= \"markers\",\n",
    "        marker = dict(size = 12,\n",
    "                      color = \"rgb(51,204,153)\",\n",
    "                      symbol = \"pentagon\",\n",
    "                      line = dict(\n",
    "                                  width = 2,\n",
    "                      )\n",
    "                     )\n",
    ")]\n",
    "\n",
    "layout = go.Layout(\n",
    "        title = \"Scatterplot random points exercice\", #Title of the graph\n",
    "        xaxis = dict(title=\"Some random X values\"),#X-axis title\n",
    "        yaxis = dict(title=\"Some random Y values\"),#Y-axis title\n",
    "        hovermode = \"closest\") # handles multiple points landing on the same vertical\n",
    "\n",
    "# Create a fig from data and layout, and plot the fig\n",
    "\n",
    "fig = go.Figure(data,layout)\n",
    "pyo.plot(fig,filename=\"EX1-Scatterplot.html\")"
   ]
  }
 ],
 "metadata": {
  "kernelspec": {
   "display_name": "Python 3",
   "language": "python",
   "name": "python3"
  },
  "language_info": {
   "codemirror_mode": {
    "name": "ipython",
    "version": 3
   },
   "file_extension": ".py",
   "mimetype": "text/x-python",
   "name": "python",
   "nbconvert_exporter": "python",
   "pygments_lexer": "ipython3",
   "version": "3.6.6"
  }
 },
 "nbformat": 4,
 "nbformat_minor": 2
}
