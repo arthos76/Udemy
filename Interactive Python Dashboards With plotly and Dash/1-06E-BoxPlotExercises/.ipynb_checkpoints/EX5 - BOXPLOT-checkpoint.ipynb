{
 "cells": [
  {
   "cell_type": "code",
   "execution_count": 14,
   "metadata": {},
   "outputs": [
    {
     "data": {
      "text/plain": [
       "'file:///home/alex/Bureau/Udemy/Udemy/Interactive Python Dashboards With plotly and Dash/1-06E-BoxPlotExercises/temp-plot.html'"
      ]
     },
     "execution_count": 14,
     "metadata": {},
     "output_type": "execute_result"
    }
   ],
   "source": [
    "#######\n",
    "# Objective: Make a DataFrame using the Abalone dataset (../data/abalone.csv).\n",
    "# Take two independent random samples of different sizes from the 'rings' field.\n",
    "# HINT: np.random.choice(df['rings'],10,replace=False) takes 10 random values\n",
    "# Use box plots to show that the samples do derive from the same population.\n",
    "######\n",
    "\n",
    "# Perform imports here:\n",
    "import pandas as pd\n",
    "import numpy as np\n",
    "import plotly.offline as pyo\n",
    "import plotly.graph_objs as go\n",
    "\n",
    "# create a DataFrame from the .csv file:\n",
    "df = pd.read_csv(\"../Data/abalone.csv\")\n",
    "\n",
    "# take two random samples of different sizes:\n",
    "X = np.random.choice(df['rings'],10,replace=False)\n",
    "Y = np.random.choice(df['rings'],30,replace=False)\n",
    "\n",
    "\n",
    "# create a data variable with two Box plots:\n",
    "\n",
    "\n",
    "data = [\n",
    "    go.Box(\n",
    "        y = X,\n",
    "        jitter= 0.5,\n",
    "        boxpoints=\"outliers\",\n",
    "        name=\"First Random Choice\"),\n",
    "    go.Box(\n",
    "        y=Y,\n",
    "        boxpoints=\"outliers\",\n",
    "        name=\"Second Random Choice\")\n",
    "]\n",
    "\n",
    "# add a layout\n",
    "\n",
    "layout = go.Layout(title=\"Boxplot to show that the samples do derive from the same population. \")\n",
    "\n",
    "\n",
    "# create a fig from data & layout, and plot the fig\n",
    "\n",
    "fig = go.Figure(data=data,layout=layout)\n",
    "pyo.plot(fig,\"Boxplot Ex5.html\")"
   ]
  }
 ],
 "metadata": {
  "kernelspec": {
   "display_name": "Python 3",
   "language": "python",
   "name": "python3"
  },
  "language_info": {
   "codemirror_mode": {
    "name": "ipython",
    "version": 3
   },
   "file_extension": ".py",
   "mimetype": "text/x-python",
   "name": "python",
   "nbconvert_exporter": "python",
   "pygments_lexer": "ipython3",
   "version": "3.6.6"
  }
 },
 "nbformat": 4,
 "nbformat_minor": 2
}
