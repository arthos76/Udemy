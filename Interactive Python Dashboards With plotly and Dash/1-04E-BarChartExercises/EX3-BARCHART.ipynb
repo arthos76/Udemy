{
 "cells": [
  {
   "cell_type": "code",
   "execution_count": 23,
   "metadata": {},
   "outputs": [
    {
     "data": {
      "text/plain": [
       "'file:///home/alex/Desktop/Udemy/Udemy/Udemy/Interactive Python Dashboards With plotly and Dash/1-04E-BarChartExercises/temp-plot.html'"
      ]
     },
     "execution_count": 23,
     "metadata": {},
     "output_type": "execute_result"
    }
   ],
   "source": [
    "#######\n",
    "# Objective: Create a stacked bar chart from\n",
    "# the file ../data/mocksurvey.csv. Note that questions appear in\n",
    "# the index (and should be used for the x-axis), while responses\n",
    "# appear as column labels.  Extra Credit: make a horizontal bar chart!\n",
    "######\n",
    "\n",
    "# Perform imports here:\n",
    "import pandas as pd\n",
    "import numpy as np\n",
    "import plotly.offline as pyo\n",
    "import plotly.graph_objs as go\n",
    "\n",
    "# create a DataFrame from the .csv file:\n",
    "df = pd.read_csv(\"../Data/mocksurvey.csv\")\n",
    "\n",
    "# create traces using a list comprehension:\n",
    "\n",
    "\n",
    "data = [go.Bar(\n",
    "    x= df[column],\n",
    "    y= df[\"Unnamed: 0\"],\n",
    "    name=column,\n",
    "    orientation = 'h',) for column in df.columns[1:]]\n",
    "\n",
    "\n",
    "\n",
    "# create a layout, remember to set the barmode here\n",
    "\n",
    "layout=go.Layout(title=\"Responses rate from Survey\",\n",
    "                 barmode='stack')\n",
    "\n",
    "\n",
    "# create a fig from data & layout, and plot the fig.\n",
    "fig = go.Figure(data=data,layout=layout)\n",
    "pyo.plot(fig,\"Responses rate from Survey.html\")"
   ]
  },
  {
   "cell_type": "code",
   "execution_count": 22,
   "metadata": {},
   "outputs": [
    {
     "data": {
      "text/html": [
       "<div>\n",
       "<style scoped>\n",
       "    .dataframe tbody tr th:only-of-type {\n",
       "        vertical-align: middle;\n",
       "    }\n",
       "\n",
       "    .dataframe tbody tr th {\n",
       "        vertical-align: top;\n",
       "    }\n",
       "\n",
       "    .dataframe thead th {\n",
       "        text-align: right;\n",
       "    }\n",
       "</style>\n",
       "<table border=\"1\" class=\"dataframe\">\n",
       "  <thead>\n",
       "    <tr style=\"text-align: right;\">\n",
       "      <th></th>\n",
       "      <th>Unnamed: 0</th>\n",
       "      <th>Strongly Agree</th>\n",
       "      <th>Somewhat Agree</th>\n",
       "      <th>Neutral</th>\n",
       "      <th>Somewhat Disagree</th>\n",
       "      <th>Strongly Disagree</th>\n",
       "    </tr>\n",
       "  </thead>\n",
       "  <tbody>\n",
       "    <tr>\n",
       "      <th>0</th>\n",
       "      <td>Question 1</td>\n",
       "      <td>0.45</td>\n",
       "      <td>0.25</td>\n",
       "      <td>0.10</td>\n",
       "      <td>0.12</td>\n",
       "      <td>0.08</td>\n",
       "    </tr>\n",
       "    <tr>\n",
       "      <th>1</th>\n",
       "      <td>Question 2</td>\n",
       "      <td>0.12</td>\n",
       "      <td>0.07</td>\n",
       "      <td>0.48</td>\n",
       "      <td>0.18</td>\n",
       "      <td>0.15</td>\n",
       "    </tr>\n",
       "    <tr>\n",
       "      <th>2</th>\n",
       "      <td>Question 3</td>\n",
       "      <td>0.05</td>\n",
       "      <td>0.22</td>\n",
       "      <td>0.19</td>\n",
       "      <td>0.23</td>\n",
       "      <td>0.31</td>\n",
       "    </tr>\n",
       "  </tbody>\n",
       "</table>\n",
       "</div>"
      ],
      "text/plain": [
       "   Unnamed: 0        ...          Strongly Disagree\n",
       "0  Question 1        ...                       0.08\n",
       "1  Question 2        ...                       0.15\n",
       "2  Question 3        ...                       0.31\n",
       "\n",
       "[3 rows x 6 columns]"
      ]
     },
     "execution_count": 22,
     "metadata": {},
     "output_type": "execute_result"
    }
   ],
   "source": [
    "df"
   ]
  },
  {
   "cell_type": "code",
   "execution_count": null,
   "metadata": {},
   "outputs": [],
   "source": []
  }
 ],
 "metadata": {
  "kernelspec": {
   "display_name": "Python 3",
   "language": "python",
   "name": "python3"
  },
  "language_info": {
   "codemirror_mode": {
    "name": "ipython",
    "version": 3
   },
   "file_extension": ".py",
   "mimetype": "text/x-python",
   "name": "python",
   "nbconvert_exporter": "python",
   "pygments_lexer": "ipython3",
   "version": "3.6.6"
  }
 },
 "nbformat": 4,
 "nbformat_minor": 2
}
