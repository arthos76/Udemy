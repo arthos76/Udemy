{
 "cells": [
  {
   "cell_type": "code",
   "execution_count": 24,
   "metadata": {},
   "outputs": [
    {
     "data": {
      "text/plain": [
       "'file:///home/alex/Desktop/Udemy/Udemy/Udemy/Interactive Python Dashboards With plotly and Dash/1-04E-BarChartExercises/temp-plot.html'"
      ]
     },
     "execution_count": 24,
     "metadata": {},
     "output_type": "execute_result"
    }
   ],
   "source": [
    "#######\n",
    "# Objective: Create a stacked bar chart from\n",
    "# the file ../data/mocksurvey.csv. Note that questions appear in\n",
    "# the index (and should be used for the x-axis), while responses\n",
    "# appear as column labels.  Extra Credit: make a horizontal bar chart!\n",
    "######\n",
    "\n",
    "# Perform imports here:\n",
    "import pandas as pd\n",
    "import numpy as np\n",
    "import plotly.offline as pyo\n",
    "import plotly.graph_objs as go\n",
    "\n",
    "# create a DataFrame from the .csv file:\n",
    "df = pd.read_csv(\"../Data/mocksurvey.csv\")\n",
    "\n",
    "# create traces using a list comprehension:\n",
    "\n",
    "\n",
    "data = [go.Bar(\n",
    "    x= df[column],\n",
    "    y= df[\"Unnamed: 0\"],\n",
    "    name=column,\n",
    "    orientation = 'h',) for column in df.columns[1:]]\n",
    "\n",
    "\n",
    "\n",
    "# create a layout, remember to set the barmode here\n",
    "\n",
    "layout=go.Layout(title=\"Survey results\",\n",
    "                 barmode='stack')\n",
    "\n",
    "\n",
    "# create a fig from data & layout, and plot the fig.\n",
    "fig = go.Figure(data=data,layout=layout)\n",
    "pyo.plot(fig,\"Responses rate from Survey.html\")"
   ]
  }
 ],
 "metadata": {
  "kernelspec": {
   "display_name": "Python 3",
   "language": "python",
   "name": "python3"
  },
  "language_info": {
   "codemirror_mode": {
    "name": "ipython",
    "version": 3
   },
   "file_extension": ".py",
   "mimetype": "text/x-python",
   "name": "python",
   "nbconvert_exporter": "python",
   "pygments_lexer": "ipython3",
   "version": "3.6.6"
  }
 },
 "nbformat": 4,
 "nbformat_minor": 2
}
