{
 "cells": [
  {
   "cell_type": "code",
   "execution_count": 2,
   "metadata": {},
   "outputs": [
    {
     "data": {
      "text/plain": [
       "'file:///home/alex/Desktop/Udemy/Udemy/Udemy/Interactive Python Dashboards With plotly and Dash/1-09E-HeatmapExercises/temp-plot.html'"
      ]
     },
     "execution_count": 2,
     "metadata": {},
     "output_type": "execute_result"
    }
   ],
   "source": [
    "#######\n",
    "# Objective: Using the \"flights\" dataset available\n",
    "# from the data folder as flights.csv\n",
    "# create a heatmap with the following parameters:\n",
    "# x-axis=\"year\"\n",
    "# y-axis=\"month\"\n",
    "# z-axis(color)=\"passengers\"\n",
    "######\n",
    "\n",
    "# Perform imports here:\n",
    "import pandas as pd\n",
    "import numpy as np\n",
    "import plotly.offline as pyo\n",
    "import plotly.graph_objs as go\n",
    "\n",
    "# Create a DataFrame from  \"flights\" data\n",
    "df = pd.read_csv('../Data/flights.csv')\n",
    "\n",
    "# Define a data variable\n",
    "\n",
    "data = [go.Heatmap(\n",
    "    x = df[\"year\"],\n",
    "    y = df[\"month\"],\n",
    "    z = df[\"passengers\"],\n",
    "    colorscale = \"jet\"\n",
    ")]\n",
    "\n",
    "# Define the layout\n",
    "layout = go.Layout(\n",
    "    title =\"Passengers by month and year\")\n",
    "\n",
    "# Create a fig from data and layout, and plot the fig\n",
    "fig = go.Figure(data=data,layout=layout)\n",
    "\n",
    "pyo.plot(fig,\"Heatmap passengers by month and year EX8.html\")"
   ]
  }
 ],
 "metadata": {
  "kernelspec": {
   "display_name": "Python 3",
   "language": "python",
   "name": "python3"
  },
  "language_info": {
   "codemirror_mode": {
    "name": "ipython",
    "version": 3
   },
   "file_extension": ".py",
   "mimetype": "text/x-python",
   "name": "python",
   "nbconvert_exporter": "python",
   "pygments_lexer": "ipython3",
   "version": "3.6.6"
  }
 },
 "nbformat": 4,
 "nbformat_minor": 2
}
