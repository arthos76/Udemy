{
 "cells": [
  {
   "cell_type": "code",
   "execution_count": 7,
   "metadata": {},
   "outputs": [
    {
     "data": {
      "text/plain": [
       "'file:///home/alex/Desktop/Udemy/Udemy/Udemy/Interactive Python Dashboards With plotly and Dash/1-05E-BubbleChartExercises/temp-plot.html'"
      ]
     },
     "execution_count": 7,
     "metadata": {},
     "output_type": "execute_result"
    }
   ],
   "source": [
    "#######\n",
    "# Objective: Create a bubble chart that compares three other features\n",
    "# from the mpg.csv dataset. Fields include: 'mpg', 'cylinders', 'displacement'\n",
    "# 'horsepower', 'weight', 'acceleration', 'model_year', 'origin', 'name'\n",
    "######\n",
    "\n",
    "# Perform imports here:\n",
    "import pandas as pd\n",
    "import numpy as np\n",
    "import plotly.offline as pyo\n",
    "import plotly.graph_objs as go\n",
    "\n",
    "\n",
    "# create a DataFrame from the .csv file:\n",
    "df = pd.read_csv(\"../Data/mpg.csv\")\n",
    "\n",
    "# create data by choosing fields for x, y and marker size attributes\n",
    "\n",
    "data = [go.Scatter(\n",
    "    x=df[\"acceleration\"],\n",
    "    y=df[\"horsepower\"],\n",
    "    text=df[\"name\"],\n",
    "    mode=\"markers\",\n",
    "    marker=dict(size=2*df[\"mpg\"],\n",
    "                color=df[\"mpg\"],\n",
    "                showscale=True))]\n",
    "\n",
    "# create a layout with a title and axis labels\n",
    "\n",
    "layout = go.Layout(title = \"Acceleration vs Horsepower per MPG \",\n",
    "                   xaxis = dict(title = \"Acceleration\"),\n",
    "                   yaxis = dict(title = \"Horsepower\"),\n",
    "                   hovermode=\"closest\")\n",
    "\n",
    "\n",
    "# create a fig from data & layout, and plot the fig\n",
    "fig = go.Figure(data=data,layout=layout)\n",
    "pyo.plot(fig,\"Acceleration vs Horsepower per MPG.html\")        "
   ]
  },
  {
   "cell_type": "code",
   "execution_count": null,
   "metadata": {},
   "outputs": [],
   "source": []
  }
 ],
 "metadata": {
  "kernelspec": {
   "display_name": "Python 3",
   "language": "python",
   "name": "python3"
  },
  "language_info": {
   "codemirror_mode": {
    "name": "ipython",
    "version": 3
   },
   "file_extension": ".py",
   "mimetype": "text/x-python",
   "name": "python",
   "nbconvert_exporter": "python",
   "pygments_lexer": "ipython3",
   "version": "3.6.6"
  }
 },
 "nbformat": 4,
 "nbformat_minor": 2
}
