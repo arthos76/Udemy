{
 "cells": [
  {
   "cell_type": "markdown",
   "metadata": {},
   "source": [
    "# Assessment test - ANOVA"
   ]
  },
  {
   "cell_type": "markdown",
   "metadata": {},
   "source": [
    "## EXERCISE #5 - ANOVA – ANSWER KEY\n",
    "1. **What does ANOVA stand for? How is it used?**\n",
    "2. **What is the name of the probability distribution used with ANOVA?**\n",
    "3. **We already have a test to determine the probability that two samples come from the same population (the Students t-Test). Why would we use ANOVA?**\n",
    "4. **A real estate firm wants to know if there is a statistical difference in sales between the months of February, March and April. The following table shows sales figures from three divisions for those months. Using ANOVA, see if there is support for the null hypothesis that all three months were equal. Based on the results, what is our conclusion?**"
   ]
  },
  {
   "cell_type": "markdown",
   "metadata": {},
   "source": [
    "1. ANOVA does stand for Analysis of Variance. It is used to answer the following questions: \"What is the probability that two samples come from populations that have the same variance ?\" and \"What is the probability that three or more samples come from the same population?\"\n",
    "\n",
    "2. The name of the probability distribution used with ANOVA is the F-Distribution.\n",
    "\n",
    "3. ANOVA is used to compare the samples without losing in the confidence interval. In order words, for each additional two-sample test, the level of confidence decreases. Testing three samples involves three unique comparison tests (AB, AC, BC). If each test has a confidence level of 0.95, then the resulting confidence level is (0.95)(0.95)(0.95) or 0.857.\n",
    "\n",
    "4. Since F > F critical, we would reject the null hypothesis, and we can say that there is a statistical difference in sales between the months (and thus the sales were equal in Feb, Mar and Apr.)"
   ]
  },
  {
   "cell_type": "code",
   "execution_count": 80,
   "metadata": {},
   "outputs": [],
   "source": [
    "from scipy.stats import f_oneway\n",
    "from scipy.stats import f"
   ]
  },
  {
   "cell_type": "code",
   "execution_count": 85,
   "metadata": {
    "scrolled": true
   },
   "outputs": [
    {
     "name": "stdout",
     "output_type": "stream",
     "text": [
      "5.143252849784718\n",
      "F_onewayResult(statistic=7.875, pvalue=0.020993070646602975)\n"
     ]
    }
   ],
   "source": [
    "Feb = [13,16,16]\n",
    "Mar = [21,19,20]\n",
    "Apr = [17,19,21]\n",
    "print(f.ppf(q=1-0.05, dfn=2, dfd=6))\n",
    "print(f_oneway(Feb,Mar,Apr))"
   ]
  }
 ],
 "metadata": {
  "kernelspec": {
   "display_name": "Python 3",
   "language": "python",
   "name": "python3"
  },
  "language_info": {
   "codemirror_mode": {
    "name": "ipython",
    "version": 3
   },
   "file_extension": ".py",
   "mimetype": "text/x-python",
   "name": "python",
   "nbconvert_exporter": "python",
   "pygments_lexer": "ipython3",
   "version": "3.6.6"
  }
 },
 "nbformat": 4,
 "nbformat_minor": 2
}
