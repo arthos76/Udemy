{
 "cells": [
  {
   "cell_type": "markdown",
   "metadata": {},
   "source": [
    "# Assessment test - Statistics"
   ]
  },
  {
   "cell_type": "markdown",
   "metadata": {},
   "source": [
    "# EXERCISE #4 - Statistics\n",
    "1. **What is the distinction between a population and a sample?**\n",
    "2. **What is the difference between a parameter and a statistic?**\n",
    "3. **A hospital conducts a survey of patients who were given an experimental, lifesaving treatment. Hospital administrators call patients at home and ask them to participate in the survey. What types of sampling bias might be involved?**\n",
    "4. **What does the Central Limit Theorem say about populations and samples?**\n",
    "5. **If a population has a mean of 600 and a standard deviation of 50, what is the Standard Error of the Mean for a sample size of 100? What does this value indicate?**\n",
    "6. **In Hypothesis Testing, what is the difference between a one-tailed and two-tailed test?**\n",
    "7. **A company wants to determine if two different sales departments had statistically the same number of sales per week over the last nine weeks. Perform a Student's t-Test on the following results. We recommend using a spreadsheet! If t-Critical for a one-tailed test with 95% confidence and 16 degrees of freedom is 1.74,what can we conclude about these departments?**"
   ]
  },
  {
   "cell_type": "markdown",
   "metadata": {},
   "source": [
    "1. Population refers to every member of a group we want to study. A sample refers to a small set of ramdom members of the population that we want to study.\n",
    "\n",
    "\n",
    "2. A parameter refers to a characteristic of a population whereas a statistic refers to a characteristic of a sample.\n",
    "\n",
    "\n",
    "3. * Undercoverage bias – only those patients who are home at the time of the call and have access to a phone will be included in the survey\n",
    "  * Self-selection bias – only those patients who agree to participate will be included in the survey\n",
    "  * Survivorship bias – only those patients who survived the experimental treatment will be included in the survey.\n",
    "  \n",
    "  \n",
    "4. It states that the mean values from a group of samples will be normally distributed about the population mean, even if the population itself is not normally distributed. That is, 95% of all sample means should fall within 2std of the population mean.\n",
    "\n",
    "\n",
    "5. The Standard Error of the mean for a sample size of 100 for a population of 600 with a std of 50 is : 50/sqrt(100) = 50/10=5. This value indicates that with 95% confidence level, that the means taken from a 100-item samples are excepted to fall between +- two std errors of the sample statistics, which means between 590 and 610.\n",
    "\n",
    "\n",
    "6. In hypothesis Testing, the difference between a one-tailed and two-tailed test is that, if the alternative hypothesis is not equal to null, then the two tails of our probability curve share the area of the level of significance (0.025 for each tails in case of a=0.05). If the alternative hypothesis is more than null, the right tail of our probability curve has an area of the significance level (a=0.05), and if the alternative hypothesis is less than null, the left tail of our probability curve has an area of the significance level (a=0.05)"
   ]
  },
  {
   "cell_type": "code",
   "execution_count": 1,
   "metadata": {},
   "outputs": [],
   "source": [
    "import numpy as np\n",
    "import pandas as pd\n",
    "from scipy.stats import tt"
   ]
  },
  {
   "cell_type": "code",
   "execution_count": 43,
   "metadata": {},
   "outputs": [],
   "source": [
    "d = {\"A\":[40,36,42,36,35,35,41,43,34],\n",
    "     \"B\":[43,41,44,39,37,35,44,46,40]}\n",
    "df = pd.DataFrame(d)\n",
    "df[\"A(x-x ̅ )\"] = df[\"A\"] - np.mean(df[\"A\"])\n",
    "df[\"B(x-x ̅ )\"] = df[\"B\"] - np.mean(df[\"B\"])\n",
    "df[\"A(x-x ̅ )^2\"] = np.square(df[\"A(x-x ̅ )\"])\n",
    "df[\"B(x-x ̅ )^2\"] = np.square(df[\"B(x-x ̅ )\"])\n",
    "df.loc['SUM']= df.sum()\n",
    "df.loc['Mean'] = df.iloc[0:9].mean()\n",
    "df.loc['S2'] = df.iloc[9] / 8"
   ]
  },
  {
   "cell_type": "code",
   "execution_count": 45,
   "metadata": {},
   "outputs": [],
   "source": [
    "t = np.abs(df[\"A\"][10] - df[\"B\"][10]) / np.sqrt((df[\"A(x-x ̅ )^2\"][11]/9) + (df[\"B(x-x ̅ )^2\"][11] / 9))"
   ]
  },
  {
   "cell_type": "code",
   "execution_count": 46,
   "metadata": {},
   "outputs": [
    {
     "data": {
      "text/plain": [
       "1.7999999999999998"
      ]
     },
     "execution_count": 46,
     "metadata": {},
     "output_type": "execute_result"
    }
   ],
   "source": [
    "t"
   ]
  },
  {
   "cell_type": "code",
   "execution_count": 42,
   "metadata": {},
   "outputs": [
    {
     "data": {
      "text/plain": [
       "Ttest_indResult(statistic=-1.7999999999999998, pvalue=0.09074323472091841)"
      ]
     },
     "execution_count": 42,
     "metadata": {},
     "output_type": "execute_result"
    }
   ],
   "source": [
    "ttest_ind(df[\"A\"],df[\"B\"])"
   ]
  },
  {
   "cell_type": "markdown",
   "metadata": {},
   "source": [
    "Since the pvalue > 0.05,and t > than the t-critical for a one-tailed test with 95% confidence and 16 degrees of freedom (1.74), we would reject the null hypothesis that means sale for Dept B is less than or equal to Dept A, and support the alternative hypothesis that the Dept B has a greater mean value of sales than Dept A."
   ]
  }
 ],
 "metadata": {
  "kernelspec": {
   "display_name": "Python 3",
   "language": "python",
   "name": "python3"
  },
  "language_info": {
   "codemirror_mode": {
    "name": "ipython",
    "version": 3
   },
   "file_extension": ".py",
   "mimetype": "text/x-python",
   "name": "python",
   "nbconvert_exporter": "python",
   "pygments_lexer": "ipython3",
   "version": "3.6.6"
  }
 },
 "nbformat": 4,
 "nbformat_minor": 2
}
