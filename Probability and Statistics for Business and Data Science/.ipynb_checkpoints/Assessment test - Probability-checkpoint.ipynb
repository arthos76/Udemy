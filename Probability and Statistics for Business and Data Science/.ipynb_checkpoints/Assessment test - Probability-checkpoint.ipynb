{
 "cells": [
  {
   "cell_type": "markdown",
   "metadata": {},
   "source": [
    "# Assessment test - Probability"
   ]
  },
  {
   "cell_type": "markdown",
   "metadata": {},
   "source": [
    "## EXERCISE #2 - Probability\n",
    "1. **What is probability?**\n",
    "2. **What is the probability that a flip of a fair coin will come up heads?**\n",
    "3. **If a fair coin comes up tails four times in a row, what is the probability that it will come up heads on the fifth toss?**\n",
    "4. **In a pool of 24 workers, one is a corporate spy. The pool is divided into teams, with four workers per team. If you were to randomly pick one of these teams, what is the probability that the team you picked would contain a spy?**"
   ]
  },
  {
   "cell_type": "markdown",
   "metadata": {},
   "source": [
    "1. Probability is a value between 0 and 1 that a certain event will occur.\n",
    "2. The probability that a flip of a fair con will come up heads is p(heads) = 1/2 = 0.5\n",
    "3. Since the flips are independent between them (independant events), the probability is still 0.5\n",
    "4. P(Spy) = 1 / 24 * 4 = 4 / 24 = 0,1667%"
   ]
  },
  {
   "cell_type": "markdown",
   "metadata": {},
   "source": [
    "## PERMUTATIONS\n",
    "5. **Write out all the possible three-digit permutations of the numbers 7,8,9, then show mathematically how many permutations there should be.**\n",
    "6. **Next, write out all the possible two-digit permutations of the numbers 7,8,9, with repetition,then show mathematically how many permutations there should be.**\n"
   ]
  },
  {
   "cell_type": "markdown",
   "metadata": {},
   "source": [
    "5. (7,8,9),(7,9,8),(8,7,9),(8,9,7),(9,7,8),(9,8,7). Mathematically it is : 3! = 3x2x1 = 6\n",
    "6. (7,7),(7,8),(7,9),(8,7),(8,8),(8,9),(9,7),(9,8),(9,9). Mathematically it is : 3^2 = 3x3 = 9"
   ]
  },
  {
   "cell_type": "markdown",
   "metadata": {},
   "source": [
    "## COMBINATIONS\n",
    "7. **Of the five projects you completed last year, only three will fit on your resume. How many different combinations of projects are there?**"
   ]
  },
  {
   "cell_type": "markdown",
   "metadata": {},
   "source": [
    "7. 5C3 = 5! / 3!(5-3)! = 10! ( formula without repetition : nCr = n!/r!(n-r)! / with repetition, n+r-1Cr = n+r-1!/r!(n-r)!)"
   ]
  },
  {
   "cell_type": "markdown",
   "metadata": {},
   "source": [
    "## INTERSECTIONS, UNIONS & COMPLEMENTS\n",
    "8. **In the above Venn Diagram, if A represents triangles, and B represents hollow figures,express the Intersection (A and B), the Union (A or B) and the Complement of A (not A) mathematically.**"
   ]
  },
  {
   "cell_type": "markdown",
   "metadata": {},
   "source": [
    "8. P(A and B) = 2 / 10, P(-A) = 1 - P(A)= 1 - (6/10) = 4/10,P(A or B) = P(A) + P(B) - P(A and B) = 6/10 + 6/10 - 2/10 = 10/10 = 1"
   ]
  },
  {
   "cell_type": "markdown",
   "metadata": {},
   "source": [
    "## CONDITIONAL PROBABILITY\n",
    "9. **A company conducts a historical study of employees. Out of 250 hires, 180 are still with the company, 120 had been offered promotions, and 75 are both with the company and had been offered promotions. Given that an employee was offered a promotion, what is the probability that they are still with the company?**"
   ]
  },
  {
   "cell_type": "markdown",
   "metadata": {},
   "source": [
    "P(A|B) = P(A and B) / P(B) = 75 / 120 = 62,5%"
   ]
  },
  {
   "cell_type": "markdown",
   "metadata": {},
   "source": [
    "## BAYES THEOREM\n",
    "10.**A spam filtering program uses Bayes Theorem to assign a probability that an incoming email that contains the word \"special\" is spam (an unwanted message) as opposed to ham (a valid message). The following assumptions are made:**\n",
    "\n",
    "* The initial probability P(S) that an incoming message is spam is 0.50 (ie, it is equally likely to be spam as ham)\n",
    "\n",
    "* During a learning phase where known spam and ham messages were tested for the occurrence of the word, it is found that 4% of spam messages contain the word, and 1% of ham messages have it. What is the probability that a message containing the word is spam?\n",
    "\n",
    "+ P(S|W) = probability of being spam if containing the word\n",
    "+ P(W|S) = probability of containing the word if spam\n",
    "+ P(S) = probability of being spam\n",
    "+ P(W) = probability of containing the word\n",
    "+ P(W|H) = probability of containing the word if ham\n",
    "+ P(H) = probability of being ham"
   ]
  },
  {
   "cell_type": "markdown",
   "metadata": {},
   "source": [
    "10. P(H) = 0.5, P(S) = 0.5, P(W|S) = 0.04, P(W|H) = 0.01, P(W) = P(W|S)xP(S) + P(W|H)xP(H) = 0.04x0.5 + 0.01x0.5 = 0.025, so P(S|W) = P(W|S)xP(S) / P(W) = 0.02 / 0.025 = 0.8 = 80%"
   ]
  }
 ],
 "metadata": {
  "kernelspec": {
   "display_name": "Python 3",
   "language": "python",
   "name": "python3"
  },
  "language_info": {
   "codemirror_mode": {
    "name": "ipython",
    "version": 3
   },
   "file_extension": ".py",
   "mimetype": "text/x-python",
   "name": "python",
   "nbconvert_exporter": "python",
   "pygments_lexer": "ipython3",
   "version": "3.6.6"
  }
 },
 "nbformat": 4,
 "nbformat_minor": 2
}
