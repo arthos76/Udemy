{
 "cells": [
  {
   "cell_type": "markdown",
   "metadata": {},
   "source": [
    "# Assessment test - Data"
   ]
  },
  {
   "cell_type": "markdown",
   "metadata": {},
   "source": [
    "## EXERCISE #1 – Data"
   ]
  },
  {
   "cell_type": "markdown",
   "metadata": {},
   "source": [
    "1. **What is data?**\n",
    "2. **Why do we use visualizations with data?**\n",
    "3. **What is the difference between a population and a sample?**\n",
    "4. **Why do we use sampling?**\n"
   ]
  },
  {
   "cell_type": "markdown",
   "metadata": {},
   "source": [
    "1. Data refers to the collected observations we have about something. It can be Qualitative (discrete or continuous) or Quantitative (binary, nominal or ordinal)\n",
    "2. Using data visualization helps us to see the trends and patterns in the data more effectively than a table.\n",
    "3. Population refers to the entire population that we want to study whereas sample means we are just studying a sample of this population (mostly because it is impossible to study the whole population).\n",
    "4. Sampling allows us to do a statistical inference by taking a reasonably sized random sample and to determine the values for the whole population because time and resources prevent us from measuring every member of a population."
   ]
  },
  {
   "cell_type": "markdown",
   "metadata": {},
   "source": [
    "## MEASUREMENTS OF DATA"
   ]
  },
  {
   "cell_type": "markdown",
   "metadata": {},
   "source": [
    "5. **What level of measurement describes an employee's education level?**\n",
    "6. **What level of measurement describes the time needed to complete a project?**\n",
    "7. **Set up and solve 5^3**\n",
    "8. **Set up and solve 5!**\n",
    "9. **Set up and solve ∑ (5) x=1^x**"
   ]
  },
  {
   "cell_type": "markdown",
   "metadata": {},
   "source": [
    "5. Ordinal because we can sort the education level\n",
    "6. Ratio because it has a true zero point value\n",
    "7. 5^3 = 5x5x5 = 125\n",
    "8. 5! = 5x4x3x2x1 = 120\n",
    "9. ∑ (5) x=1^x = 1^1 + 1^2 + 1^3 + 1^4 + 1^5 = 5"
   ]
  },
  {
   "cell_type": "markdown",
   "metadata": {},
   "source": [
    "## MEASURES OF CENTRAL TENDENCY\n",
    "10. **Find the mean value of the series {6, 12, 8, 5, 10}**\n",
    "11. **Find the median value of the series {7, 3, 11, 6, 9, 9}**"
   ]
  },
  {
   "cell_type": "markdown",
   "metadata": {},
   "source": [
    "10. 8.2\n",
    "11. 8"
   ]
  },
  {
   "cell_type": "markdown",
   "metadata": {},
   "source": [
    "## MEASURES OF DISPERSION\n",
    "12. **Find the standard deviation of the series {2, 10, 8, 6, 3, 7}**\n",
    "### QUARTILES & INTERQUARTILE RANGE (IQR)\n",
    "13. **Divide the following series into quartiles. {5, 1, 6, 4, 2, 6, 7, 3, 1, 8, 4, 8}. What are the boundaries of the IQR?**\n",
    "14. **In the above problem, where would the upper fence fall using the 1.5 IQR method?**"
   ]
  },
  {
   "cell_type": "markdown",
   "metadata": {},
   "source": [
    "12. Std = 2.7688\n",
    "13. Q1 = 2.5, Q2 = 4.5, Q3 = 6.5. The bondaries are 2.5 and 6.5 (Q1 and Q3 respectively)\n",
    "14. The upper would be at (1.5 * (6.5-2.5)) + 6.5 = 12.5. Everything outside is considered as outliers."
   ]
  },
  {
   "cell_type": "markdown",
   "metadata": {},
   "source": [
    "## BIVARIATE DATA\n",
    "15. **Calculate the Pearson Correlation Coefficient for the following table of values**\n",
    "16. **Are these values correlated? Why or why not?**"
   ]
  },
  {
   "cell_type": "markdown",
   "metadata": {},
   "source": [
    "15. See answer below"
   ]
  },
  {
   "cell_type": "code",
   "execution_count": 58,
   "metadata": {},
   "outputs": [
    {
     "data": {
      "text/html": [
       "<div>\n",
       "<style scoped>\n",
       "    .dataframe tbody tr th:only-of-type {\n",
       "        vertical-align: middle;\n",
       "    }\n",
       "\n",
       "    .dataframe tbody tr th {\n",
       "        vertical-align: top;\n",
       "    }\n",
       "\n",
       "    .dataframe thead th {\n",
       "        text-align: right;\n",
       "    }\n",
       "</style>\n",
       "<table border=\"1\" class=\"dataframe\">\n",
       "  <thead>\n",
       "    <tr style=\"text-align: right;\">\n",
       "      <th></th>\n",
       "      <th>Heigh</th>\n",
       "      <th>Weigh</th>\n",
       "      <th>(x-x ̅ )</th>\n",
       "      <th>(y-y ̅ )</th>\n",
       "      <th>(x-x ̅ )(y-y ̅ )</th>\n",
       "      <th>(x-x ̅ )^2</th>\n",
       "      <th>(y-y ̅ )^2</th>\n",
       "    </tr>\n",
       "  </thead>\n",
       "  <tbody>\n",
       "    <tr>\n",
       "      <th>0</th>\n",
       "      <td>5.0</td>\n",
       "      <td>143.0</td>\n",
       "      <td>-5.0</td>\n",
       "      <td>-7.0</td>\n",
       "      <td>35.0</td>\n",
       "      <td>25.0</td>\n",
       "      <td>49.0</td>\n",
       "    </tr>\n",
       "    <tr>\n",
       "      <th>1</th>\n",
       "      <td>7.0</td>\n",
       "      <td>145.0</td>\n",
       "      <td>-3.0</td>\n",
       "      <td>-5.0</td>\n",
       "      <td>15.0</td>\n",
       "      <td>9.0</td>\n",
       "      <td>25.0</td>\n",
       "    </tr>\n",
       "    <tr>\n",
       "      <th>2</th>\n",
       "      <td>11.0</td>\n",
       "      <td>147.0</td>\n",
       "      <td>1.0</td>\n",
       "      <td>-3.0</td>\n",
       "      <td>-3.0</td>\n",
       "      <td>1.0</td>\n",
       "      <td>9.0</td>\n",
       "    </tr>\n",
       "    <tr>\n",
       "      <th>3</th>\n",
       "      <td>12.0</td>\n",
       "      <td>157.0</td>\n",
       "      <td>2.0</td>\n",
       "      <td>7.0</td>\n",
       "      <td>14.0</td>\n",
       "      <td>4.0</td>\n",
       "      <td>49.0</td>\n",
       "    </tr>\n",
       "    <tr>\n",
       "      <th>4</th>\n",
       "      <td>15.0</td>\n",
       "      <td>158.0</td>\n",
       "      <td>5.0</td>\n",
       "      <td>8.0</td>\n",
       "      <td>40.0</td>\n",
       "      <td>25.0</td>\n",
       "      <td>64.0</td>\n",
       "    </tr>\n",
       "    <tr>\n",
       "      <th>Total</th>\n",
       "      <td>50.0</td>\n",
       "      <td>750.0</td>\n",
       "      <td>0.0</td>\n",
       "      <td>0.0</td>\n",
       "      <td>101.0</td>\n",
       "      <td>64.0</td>\n",
       "      <td>196.0</td>\n",
       "    </tr>\n",
       "    <tr>\n",
       "      <th>Mean</th>\n",
       "      <td>10.0</td>\n",
       "      <td>150.0</td>\n",
       "      <td>0.0</td>\n",
       "      <td>0.0</td>\n",
       "      <td>20.2</td>\n",
       "      <td>12.8</td>\n",
       "      <td>39.2</td>\n",
       "    </tr>\n",
       "  </tbody>\n",
       "</table>\n",
       "</div>"
      ],
      "text/plain": [
       "       Heigh  Weigh  (x-x ̅ )  (y-y ̅ )  (x-x ̅ )(y-y ̅ )  (x-x ̅ )^2  \\\n",
       "0        5.0  143.0      -5.0      -7.0              35.0        25.0   \n",
       "1        7.0  145.0      -3.0      -5.0              15.0         9.0   \n",
       "2       11.0  147.0       1.0      -3.0              -3.0         1.0   \n",
       "3       12.0  157.0       2.0       7.0              14.0         4.0   \n",
       "4       15.0  158.0       5.0       8.0              40.0        25.0   \n",
       "Total   50.0  750.0       0.0       0.0             101.0        64.0   \n",
       "Mean    10.0  150.0       0.0       0.0              20.2        12.8   \n",
       "\n",
       "       (y-y ̅ )^2  \n",
       "0            49.0  \n",
       "1            25.0  \n",
       "2             9.0  \n",
       "3            49.0  \n",
       "4            64.0  \n",
       "Total       196.0  \n",
       "Mean         39.2  "
      ]
     },
     "execution_count": 58,
     "metadata": {},
     "output_type": "execute_result"
    }
   ],
   "source": [
    "d = {\"Heigh\": [5,7,11,12,15],\"Weigh\": [143,145,147,157,158]}\n",
    "Bivariate = pd.DataFrame(d)\n",
    "Bivariate[\"(x-x ̅ )\"] = Bivariate[\"Heigh\"] - np.mean(Bivariate[\"Heigh\"])\n",
    "Bivariate[\"(y-y ̅ )\"] = Bivariate[\"Weigh\"] - np.mean(Bivariate[\"Weigh\"])\n",
    "Bivariate[\"(x-x ̅ )(y-y ̅ )\"]  = Bivariate[\"(x-x ̅ )\"] * Bivariate[\"(y-y ̅ )\"]\n",
    "Bivariate[\"(x-x ̅ )^2\"] = np.square(Bivariate[\"(x-x ̅ )\"])\n",
    "Bivariate[\"(y-y ̅ )^2\"] = np.square(Bivariate[\"(y-y ̅ )\"])\n",
    "Bivariate.loc['Total']= Bivariate.sum()\n",
    "Bivariate.loc['Mean'] = Bivariate.iloc[0:5].mean()\n",
    "Coeff_pearson = 101.0  / (np.sqrt(64.0)* np.sqrt(199.0))\n",
    "Bivariate"
   ]
  },
  {
   "cell_type": "code",
   "execution_count": 57,
   "metadata": {},
   "outputs": [
    {
     "name": "stdout",
     "output_type": "stream",
     "text": [
      "The Pearson Correlation Coefficient is : 0.89\n"
     ]
    }
   ],
   "source": [
    "print(\"The Pearson Correlation Coefficient is : {:.2f}\".format(Coeff_pearson))"
   ]
  },
  {
   "cell_type": "markdown",
   "metadata": {},
   "source": [
    "16. Yes they are because the Pearson Correlation Coefficient is close to 1 so it indicates a strong positive correlation."
   ]
  }
 ],
 "metadata": {
  "kernelspec": {
   "display_name": "Python 3",
   "language": "python",
   "name": "python3"
  },
  "language_info": {
   "codemirror_mode": {
    "name": "ipython",
    "version": 3
   },
   "file_extension": ".py",
   "mimetype": "text/x-python",
   "name": "python",
   "nbconvert_exporter": "python",
   "pygments_lexer": "ipython3",
   "version": "3.6.6"
  }
 },
 "nbformat": 4,
 "nbformat_minor": 2
}
