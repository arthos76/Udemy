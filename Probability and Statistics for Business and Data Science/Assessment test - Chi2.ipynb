{
 "cells": [
  {
   "cell_type": "markdown",
   "metadata": {},
   "source": [
    "# Assessment test - Chi2"
   ]
  },
  {
   "cell_type": "markdown",
   "metadata": {},
   "source": [
    "## EXERCISE #7 – Chi-square Tests\n",
    "1. **An automobile manufacturer believes that, out of every 100 cars sold, on average 25 are white, 20 are silver, 15 are black, and 40 are other colors like blue, red and green. To test their assumption, they gather data on 100 recent sales. Perform a chi-square test to determine if the observed sales match the manufacturer's expectations, with a 95% level of confidence.**"
   ]
  },
  {
   "cell_type": "code",
   "execution_count": 7,
   "metadata": {},
   "outputs": [],
   "source": [
    "d = {\"Sold\": [19,31,18,32],\n",
    "     \"Expected\" : [25,20,15,40]}"
   ]
  },
  {
   "cell_type": "code",
   "execution_count": 8,
   "metadata": {},
   "outputs": [],
   "source": [
    "import pandas as pd\n",
    "import numpy as np\n",
    "from scipy.stats import chi2"
   ]
  },
  {
   "cell_type": "code",
   "execution_count": 33,
   "metadata": {
    "scrolled": true
   },
   "outputs": [
    {
     "name": "stderr",
     "output_type": "stream",
     "text": [
      "/home/alex/anaconda3/lib/python3.6/site-packages/pandas/core/indexing.py:189: SettingWithCopyWarning: \n",
      "A value is trying to be set on a copy of a slice from a DataFrame\n",
      "\n",
      "See the caveats in the documentation: http://pandas.pydata.org/pandas-docs/stable/indexing.html#indexing-view-versus-copy\n",
      "  self._setitem_with_indexer(indexer, value)\n"
     ]
    },
    {
     "data": {
      "text/html": [
       "<div>\n",
       "<style scoped>\n",
       "    .dataframe tbody tr th:only-of-type {\n",
       "        vertical-align: middle;\n",
       "    }\n",
       "\n",
       "    .dataframe tbody tr th {\n",
       "        vertical-align: top;\n",
       "    }\n",
       "\n",
       "    .dataframe thead th {\n",
       "        text-align: right;\n",
       "    }\n",
       "</style>\n",
       "<table border=\"1\" class=\"dataframe\">\n",
       "  <thead>\n",
       "    <tr style=\"text-align: right;\">\n",
       "      <th></th>\n",
       "      <th>Sold</th>\n",
       "      <th>Expected</th>\n",
       "      <th>O-E</th>\n",
       "      <th>(O-E)^2</th>\n",
       "      <th>(O-E)^2 / E</th>\n",
       "    </tr>\n",
       "  </thead>\n",
       "  <tbody>\n",
       "    <tr>\n",
       "      <th>white</th>\n",
       "      <td>19</td>\n",
       "      <td>25</td>\n",
       "      <td>-6</td>\n",
       "      <td>36</td>\n",
       "      <td>1.44</td>\n",
       "    </tr>\n",
       "    <tr>\n",
       "      <th>silver</th>\n",
       "      <td>31</td>\n",
       "      <td>20</td>\n",
       "      <td>11</td>\n",
       "      <td>121</td>\n",
       "      <td>6.05</td>\n",
       "    </tr>\n",
       "    <tr>\n",
       "      <th>black</th>\n",
       "      <td>18</td>\n",
       "      <td>15</td>\n",
       "      <td>3</td>\n",
       "      <td>9</td>\n",
       "      <td>0.60</td>\n",
       "    </tr>\n",
       "    <tr>\n",
       "      <th>other</th>\n",
       "      <td>32</td>\n",
       "      <td>40</td>\n",
       "      <td>-8</td>\n",
       "      <td>64</td>\n",
       "      <td>1.60</td>\n",
       "    </tr>\n",
       "    <tr>\n",
       "      <th>Sum</th>\n",
       "      <td>100</td>\n",
       "      <td>100</td>\n",
       "      <td>0</td>\n",
       "      <td>0</td>\n",
       "      <td>9.69</td>\n",
       "    </tr>\n",
       "  </tbody>\n",
       "</table>\n",
       "</div>"
      ],
      "text/plain": [
       "        Sold  Expected  O-E  (O-E)^2  (O-E)^2 / E\n",
       "white     19        25   -6       36         1.44\n",
       "silver    31        20   11      121         6.05\n",
       "black     18        15    3        9         0.60\n",
       "other     32        40   -8       64         1.60\n",
       "Sum      100       100    0        0         9.69"
      ]
     },
     "execution_count": 33,
     "metadata": {},
     "output_type": "execute_result"
    }
   ],
   "source": [
    "df = pd.DataFrame(d,index=[\"white\",\"silver\",\"black\",\"other\"])\n",
    "df.loc[\"Sum\"] = df.sum()\n",
    "df[\"O-E\"] = df[\"Sold\"] - df[\"Expected\"]\n",
    "df[\"(O-E)^2\"] = np.square(df[\"O-E\"])\n",
    "df[\"(O-E)^2 / E\"] = df[\"(O-E)^2\"] /df[\"Expected\"] \n",
    "df[\"(O-E)^2 / E\"].iloc[-1] = df[\"(O-E)^2 / E\"].sum()\n",
    "df"
   ]
  },
  {
   "cell_type": "code",
   "execution_count": 35,
   "metadata": {},
   "outputs": [
    {
     "name": "stdout",
     "output_type": "stream",
     "text": [
      "Our Chi-Square is 9.69 and the Chi-Square critical is 7.815\n"
     ]
    }
   ],
   "source": [
    "print(\"Our Chi-Square is 9.69 and the Chi-Square critical is {:.3f}\".format(chi2.isf(0.05,3)))"
   ]
  },
  {
   "cell_type": "markdown",
   "metadata": {},
   "source": [
    "We can see that the X^2 is superior than the X^2 critical, so we reject the null hypothesis and the manufacturer's assumptions are likely false."
   ]
  }
 ],
 "metadata": {
  "kernelspec": {
   "display_name": "Python 3",
   "language": "python",
   "name": "python3"
  },
  "language_info": {
   "codemirror_mode": {
    "name": "ipython",
    "version": 3
   },
   "file_extension": ".py",
   "mimetype": "text/x-python",
   "name": "python",
   "nbconvert_exporter": "python",
   "pygments_lexer": "ipython3",
   "version": "3.6.6"
  }
 },
 "nbformat": 4,
 "nbformat_minor": 2
}
