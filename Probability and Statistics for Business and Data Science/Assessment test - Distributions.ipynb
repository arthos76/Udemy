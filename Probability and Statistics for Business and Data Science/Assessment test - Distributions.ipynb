{
 "cells": [
  {
   "cell_type": "markdown",
   "metadata": {},
   "source": [
    "## EXERCISE #3 - Distributions\n",
    "\n",
    "1. **What is a distribution?**\n",
    "2. **What is the difference between a discrete and a continuous distribution?**\n",
    "3. **Fill in the graph below to show the probability mass function of the outcomes of a fair die. What is the name of this type of distribution where the probability of each event is the same?**\n",
    "4. **In the above graph, does changing the number of trials change the appearance of the graph? Why or why not?**"
   ]
  },
  {
   "cell_type": "markdown",
   "metadata": {},
   "source": [
    "1. A distribution describes all of the probable outcomes of a **variable**.\n",
    "\n",
    "2. In a discrete distribution, the sum of all individual probabilities is equal to 1. In a continuous distribution, the area under the probability curve is equal to 1.\n",
    "\n",
    "3. For each number, the probability equal to 1/6. The name of this type of distribution where the probability of each event is the same is a discrete uniform distribution.\n",
    "\n",
    "<img src=\"./Discrete uniform distribution.png\" />\n",
    "\n",
    "\n",
    "4. No because the probabilities of each outcome are evenly distributed across the sample space. The probability is 0,127. The graph shows the expected outcome as the number of trials approaches infinity."
   ]
  },
  {
   "cell_type": "markdown",
   "metadata": {},
   "source": [
    "## BINOMIAL DISTRIBUTIONS\n",
    "5. **If you flip a fair coin five times, what is the probability that heads come up twice?** \n",
    "6. **What is the difference between a Binomial Distribution and a Poisson Distribution?**\n",
    "7. **On average, five hurricanes form in the Atlantic Ocean each year. Given this, what is the probability that 7 hurricanes form next year?** "
   ]
  },
  {
   "cell_type": "code",
   "execution_count": 13,
   "metadata": {},
   "outputs": [
    {
     "name": "stdout",
     "output_type": "stream",
     "text": [
      "The probability that heads come up twice is: 0.3125\n",
      "The probability that 7 hurricanes form next year is: 0.1277166682922895\n"
     ]
    }
   ],
   "source": [
    "#Question 5\n",
    "from scipy.stats import binom\n",
    "print(\"The probability that heads come up twice is: {}\".format(binom.pmf(2,5,1/2)))\n",
    "\n",
    "#Question 6\n",
    "from scipy.stats import poisson\n",
    "print(\"The probability that 7 hurricanes form next year is: {}\".format(poisson.pmf(5,7)))"
   ]
  },
  {
   "cell_type": "markdown",
   "metadata": {},
   "source": [
    "5. The probability follows a Binomial Distribution, with x = 2, n=5 and p=1/2, so the probability is 0.3125.\n",
    "6. The difference between a Binomial distribution and a Poisson distribution is that a Poission distribution considers the number of successes per unit of time or any other continuous unit (like distance for instance.)\n",
    "7. On average, 5 hurricanes so the mean excepted value is 5 = lambda and x = 7, the probability we are looking for is 0.12."
   ]
  },
  {
   "cell_type": "markdown",
   "metadata": {},
   "source": [
    "## NORMAL DISTRIBUTIONS\n",
    "8. **In a Normal Distribution, what is meant by the \"68-95-99.7 Rule\"?**\n",
    "9. **The graph below shows a Standard Normal Distribution curve. Shade in the area that represents 95.45% of values (that is, the area inside of 2 standard deviations).**\n",
    "10. **The IQ Test is designed to have a mean score of 100 with a standard deviation of 15 points. A score above 140 is considered to be genius level. What is the calculated z-score for an IQ of 140?**\n",
    "11. **Into what percentile does this put people who have an IQ of 140?**"
   ]
  },
  {
   "cell_type": "markdown",
   "metadata": {},
   "source": [
    "8. This means that 68% of the values fall within one standard deviations, 95% of the values fall within two standard deviations, and 99.73% of values fall withint three standard deviations of the population mean.\n",
    "9. \n",
    "\n",
    "<img src=\"./Standard Normal Distribution curve.png\" />\n",
    "\n",
    "10. For un IQ of 140, with a mean score of 100 and a standard deviation of 15, the Z-Score is 2.6 (140-100/15).\n",
    "11. This put people who have an IQ of 140 into the percentile 99,61! This mean that a genius would have outscored 99.62% of the rest of the population."
   ]
  },
  {
   "cell_type": "code",
   "execution_count": 11,
   "metadata": {},
   "outputs": [
    {
     "data": {
      "text/plain": [
       "0.9961696194324102"
      ]
     },
     "execution_count": 11,
     "metadata": {},
     "output_type": "execute_result"
    }
   ],
   "source": [
    "from scipy import stats\n",
    "z= 40/15\n",
    "stats.norm.cdf(z)"
   ]
  }
 ],
 "metadata": {
  "kernelspec": {
   "display_name": "Python 3",
   "language": "python",
   "name": "python3"
  },
  "language_info": {
   "codemirror_mode": {
    "name": "ipython",
    "version": 3
   },
   "file_extension": ".py",
   "mimetype": "text/x-python",
   "name": "python",
   "nbconvert_exporter": "python",
   "pygments_lexer": "ipython3",
   "version": "3.6.6"
  }
 },
 "nbformat": 4,
 "nbformat_minor": 2
}
