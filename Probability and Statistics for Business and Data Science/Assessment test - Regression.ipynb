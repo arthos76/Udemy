{
 "cells": [
  {
   "cell_type": "markdown",
   "metadata": {},
   "source": [
    "# Assessment test - Regression"
   ]
  },
  {
   "cell_type": "markdown",
   "metadata": {},
   "source": [
    "## EXERCISE #6 - Regression\n",
    "1. **A plant manager wants to study the relationship between daily temperatures and plant output. What are the dependent and independent variables?**\n",
    "2. **The general formula for linear regression is ŷ = b0 + b1x. Describe each of the variables ŷ, b0, b1, and x**\n",
    "3. **What determines that a line is the \"best fit\" for the given data?**\n",
    "4. **An engineer wants to study the relationship of several independent variables against soil acidity in a particular region. Why might you avoid putting both annual rainfall and depth of the water table in the same linear regression formula?**\n",
    "5. **A company wants to determine the linear relationship between the selling price of their product in US dollars and the number of units sold in thousands. Perform a linear regression on the following data to determine the linear predictor function.**"
   ]
  },
  {
   "cell_type": "markdown",
   "metadata": {},
   "source": [
    "1. The dependent variable is the plan output and the independent variable is the daily temperatures. Daily temperature may have an effect on plant output, but plant output should not affect daily temperature.\n",
    "2. ŷ is the dependent variable that we are trying to predict, b0 is the y-intercept when x=0, b1 the coefficient of the independent variable (slope of the regression line) and x the independent variable. In a multiple regression, b1 represents the contribution of x1 to the slope of the regression line. In other words, the change in ŷ for a given change in x 1 , all else remaining constant. \n",
    "3. The SSE(Sum Square Error) should be the lowest as possible which means we want to minimize the sum of distances between each data point and the line.\n",
    "4. We might avoid putting both annual rainfall and depth of the water in the same linear regression formula to avoid multicollinearity!"
   ]
  },
  {
   "cell_type": "code",
   "execution_count": 1,
   "metadata": {},
   "outputs": [],
   "source": [
    "import pandas as pd\n",
    "import numpy as np\n",
    "from scipy.stats import linregress\n",
    "d = {\"Price\": [12,14,16,18,20],\n",
    "     \"Units\": [54,57,49,48,42]}"
   ]
  },
  {
   "cell_type": "code",
   "execution_count": 9,
   "metadata": {
    "scrolled": true
   },
   "outputs": [
    {
     "data": {
      "text/plain": [
       "<matplotlib.axes._subplots.AxesSubplot at 0x7ff15e84c208>"
      ]
     },
     "execution_count": 9,
     "metadata": {},
     "output_type": "execute_result"
    },
    {
     "data": {
      "image/png": "[encoded data removed]",
      "text/plain": [
       "<Figure size 432x288 with 1 Axes>"
      ]
     },
     "metadata": {},
     "output_type": "display_data"
    }
   ],
   "source": [
    "df = pd.DataFrame(d)\n",
    "df.plot(x=\"Price\",y=\"Units\",kind=\"scatter\")"
   ]
  },
  {
   "cell_type": "code",
   "execution_count": 4,
   "metadata": {},
   "outputs": [
    {
     "data": {
      "text/plain": [
       "LinregressResult(slope=-1.6500000000000001, intercept=76.4, rvalue=-0.9014913017684526, pvalue=0.03656134441079515, stderr=0.4573474244670745)"
      ]
     },
     "execution_count": 4,
     "metadata": {},
     "output_type": "execute_result"
    }
   ],
   "source": [
    "linregress(x=df[\"Price\"],y=df[\"Units\"])"
   ]
  },
  {
   "cell_type": "markdown",
   "metadata": {},
   "source": [
    "5. The formula is : ŷ = 76.4-1.65x"
   ]
  }
 ],
 "metadata": {
  "kernelspec": {
   "display_name": "Python 3",
   "language": "python",
   "name": "python3"
  },
  "language_info": {
   "codemirror_mode": {
    "name": "ipython",
    "version": 3
   },
   "file_extension": ".py",
   "mimetype": "text/x-python",
   "name": "python",
   "nbconvert_exporter": "python",
   "pygments_lexer": "ipython3",
   "version": "3.6.6"
  }
 },
 "nbformat": 4,
 "nbformat_minor": 2
}
