{
 "cells": [
  {
   "cell_type": "code",
   "execution_count": 1,
   "metadata": {},
   "outputs": [],
   "source": [
    "import spacy"
   ]
  },
  {
   "cell_type": "code",
   "execution_count": 2,
   "metadata": {},
   "outputs": [],
   "source": [
    "nlp = spacy.load(\"en_core_web_sm\")"
   ]
  },
  {
   "cell_type": "code",
   "execution_count": 4,
   "metadata": {},
   "outputs": [
    {
     "name": "stdout",
     "output_type": "stream",
     "text": [
      "{'other', 'whenever', 'latter', 'across', 'more', 'indeed', 'before', 'itself', 'even', 'nevertheless', 're', 'twelve', 'within', 'here', 'amongst', 'alone', 'many', 'each', 'whereas', 'wherein', 'ca', 'third', 'me', 'might', 'move', 'herself', 'anyone', 'every', 'never', 'by', 'below', 'give', 'something', 'make', 'too', 'have', 'top', 'twenty', 'meanwhile', 'thence', 'will', 'doing', 'side', 'six', 'perhaps', 'without', 'above', 'whatever', 'who', 'already', 'during', 'used', 'nowhere', 'mine', 'due', 'be', 'of', 'though', 'nothing', 'beyond', 'go', 'seem', 'among', 'fifteen', 'myself', 'has', 'yourself', 'done', 'first', 'enough', 'one', 'former', 'at', 'been', 'hence', 'however', 'forty', 'yet', 'take', 'where', 'you', 'must', 'eight', 'namely', 'about', 'therein', 'often', 'and', 'out', 'towards', 'unless', 'much', 'all', 'very', 'whereby', 'no', 'seems', 'hereby', 'most', 'neither', 'that', 'under', 'whoever', 'through', 'whereupon', 'he', 'a', 'see', 'an', 'it', 'because', 'wherever', 'she', 'both', 'so', 'us', 'always', 'in', 'name', 'up', 'nobody', 'beside', 'either', 'own', 'only', 'whereafter', 'did', 'since', 'almost', 'was', 'off', 'ours', 'any', 'front', 'someone', 'became', 'had', 'really', 'amount', 'please', 'those', 'less', 'hundred', 'rather', 'whose', 'not', 'still', 'further', 'noone', 'afterwards', 'seeming', 'i', 'this', 'onto', 'together', 'somehow', 'serious', 'also', 'whole', 'five', 'hers', 'eleven', 'cannot', 'everything', 'after', 'to', 'whether', 'quite', 'using', 'hereupon', 'anywhere', 'is', 'becoming', 'besides', 'my', 'then', 'throughout', 'why', 'between', 'again', 'well', 'via', 'down', 'them', 'back', 'behind', 'last', 'several', 'mostly', 'else', 'ever', 'over', 'latterly', 'nor', 'her', 'therefore', 'they', 'while', 'empty', 'for', 'thus', 'part', 'per', 'four', 'am', 'thru', 'its', 'such', 'the', 'anything', 'herein', 'anyway', 'now', 'same', 'with', 'does', 'against', 'or', 'sometimes', 'our', 'three', 'yours', 'toward', 'were', 'next', 'ten', 'hereafter', 'whence', 'would', 'are', 'everyone', 'various', 'whither', 'your', 'until', 'could', 'ourselves', 'thereby', 'upon', 'seemed', 'put', 'may', 'their', 'others', 'sixty', 'least', 'but', 'fifty', 'except', 'get', 'nine', 'two', 'we', 'these', 'what', 'none', 'say', 'yourselves', 'few', 'being', 'himself', 'if', 'moreover', 'can', 'when', 'which', 'thereafter', 'anyhow', 'although', 'him', 'on', 'bottom', 'formerly', 'as', 'another', 'into', 'than', 'around', 'sometime', 'made', 'some', 'beforehand', 'should', 'themselves', 'whom', 'along', 'show', 'somewhere', 'thereupon', 'becomes', 'do', 'from', 'how', 'call', 'once', 'full', 'just', 'regarding', 'keep', 'otherwise', 'elsewhere', 'become', 'there', 'his', 'everywhere'}\n"
     ]
    }
   ],
   "source": [
    "print(nlp.Defaults.stop_words)"
   ]
  },
  {
   "cell_type": "code",
   "execution_count": 6,
   "metadata": {},
   "outputs": [
    {
     "data": {
      "text/plain": [
       "set"
      ]
     },
     "execution_count": 6,
     "metadata": {},
     "output_type": "execute_result"
    }
   ],
   "source": [
    "type(nlp.Defaults.stop_words)"
   ]
  },
  {
   "cell_type": "code",
   "execution_count": 7,
   "metadata": {},
   "outputs": [
    {
     "data": {
      "text/plain": [
       "305"
      ]
     },
     "execution_count": 7,
     "metadata": {},
     "output_type": "execute_result"
    }
   ],
   "source": [
    "len(nlp.Defaults.stop_words)"
   ]
  },
  {
   "cell_type": "code",
   "execution_count": 9,
   "metadata": {},
   "outputs": [
    {
     "data": {
      "text/plain": [
       "True"
      ]
     },
     "execution_count": 9,
     "metadata": {},
     "output_type": "execute_result"
    }
   ],
   "source": [
    "nlp.vocab[\"is\"].is_stop"
   ]
  },
  {
   "cell_type": "code",
   "execution_count": 10,
   "metadata": {},
   "outputs": [
    {
     "data": {
      "text/plain": [
       "False"
      ]
     },
     "execution_count": 10,
     "metadata": {},
     "output_type": "execute_result"
    }
   ],
   "source": [
    "nlp.vocab[\"false\"].is_stop"
   ]
  },
  {
   "cell_type": "code",
   "execution_count": 11,
   "metadata": {},
   "outputs": [],
   "source": [
    "nlp.Defaults.stop_words.add(\"btw\")"
   ]
  },
  {
   "cell_type": "code",
   "execution_count": 12,
   "metadata": {},
   "outputs": [],
   "source": [
    "nlp.vocab[\"btw\"].is_stop = True"
   ]
  },
  {
   "cell_type": "code",
   "execution_count": 13,
   "metadata": {},
   "outputs": [
    {
     "data": {
      "text/plain": [
       "306"
      ]
     },
     "execution_count": 13,
     "metadata": {},
     "output_type": "execute_result"
    }
   ],
   "source": [
    "len(nlp.Defaults.stop_words)"
   ]
  },
  {
   "cell_type": "code",
   "execution_count": 14,
   "metadata": {},
   "outputs": [
    {
     "data": {
      "text/plain": [
       "True"
      ]
     },
     "execution_count": 14,
     "metadata": {},
     "output_type": "execute_result"
    }
   ],
   "source": [
    "nlp.vocab[\"btw\"].is_stop"
   ]
  },
  {
   "cell_type": "code",
   "execution_count": 15,
   "metadata": {},
   "outputs": [],
   "source": [
    "nlp.Defaults.stop_words.remove(\"beyond\")"
   ]
  },
  {
   "cell_type": "code",
   "execution_count": 16,
   "metadata": {},
   "outputs": [],
   "source": [
    "nlp.vocab[\"beyond\"].is_stop = False"
   ]
  },
  {
   "cell_type": "code",
   "execution_count": 17,
   "metadata": {},
   "outputs": [
    {
     "data": {
      "text/plain": [
       "False"
      ]
     },
     "execution_count": 17,
     "metadata": {},
     "output_type": "execute_result"
    }
   ],
   "source": [
    "nlp.vocab[\"beyond\"].is_stop"
   ]
  },
  {
   "cell_type": "code",
   "execution_count": null,
   "metadata": {},
   "outputs": [],
   "source": []
  }
 ],
 "metadata": {
  "kernelspec": {
   "display_name": "Python 3",
   "language": "python",
   "name": "python3"
  },
  "language_info": {
   "codemirror_mode": {
    "name": "ipython",
    "version": 3
   },
   "file_extension": ".py",
   "mimetype": "text/x-python",
   "name": "python",
   "nbconvert_exporter": "python",
   "pygments_lexer": "ipython3",
   "version": "3.6.8"
  }
 },
 "nbformat": 4,
 "nbformat_minor": 2
}
