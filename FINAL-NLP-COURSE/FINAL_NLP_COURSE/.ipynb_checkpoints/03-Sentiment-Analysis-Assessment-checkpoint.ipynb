{
 "cells": [
  {
   "cell_type": "markdown",
   "metadata": {
    "collapsed": true
   },
   "source": [
    "___\n",
    "\n",
    "<a href='http://www.pieriandata.com'> <img src='../Pierian_Data_Logo.png' /></a>\n",
    "___"
   ]
  },
  {
   "cell_type": "markdown",
   "metadata": {},
   "source": [
    "# Sentiment Analysis Assessment - Solution\n",
    "\n",
    "## Task #1: Perform vector arithmetic on your own words\n",
    "Write code that evaluates vector arithmetic on your own set of related words. The goal is to come as close to an expected word as possible. Please feel free to share success stories in the Q&A Forum for this section!"
   ]
  },
  {
   "cell_type": "code",
   "execution_count": 1,
   "metadata": {},
   "outputs": [],
   "source": [
    "# Import spaCy and load the language library. Remember to use a larger model!\n",
    "import spacy\n",
    "nlp = spacy.load(\"en_core_web_lg\")"
   ]
  },
  {
   "cell_type": "code",
   "execution_count": 16,
   "metadata": {},
   "outputs": [
    {
     "name": "stdout",
     "output_type": "stream",
     "text": [
      "pandas True 7.043446 False pandas 1.0\n",
      "pandas True 7.043446 False lions 0.54874396\n",
      "pandas True 7.043446 False women 0.10304643\n",
      "lions True 7.043446 False pandas 0.54874396\n",
      "lions True 7.043446 False lions 1.0\n",
      "lions True 7.043446 False women 0.20711578\n",
      "women True 7.043446 False pandas 0.10304643\n",
      "women True 7.043446 False lions 0.20711578\n",
      "women True 7.043446 False women 1.0\n"
     ]
    }
   ],
   "source": [
    "# Choose the words you wish to compare, and obtain their vectors\n",
    "tokens = nlp(u\"pandas lions women\")\n",
    "for token1 in tokens:\n",
    "     for token2 in tokens:\n",
    "        print(token1.text,token.has_vector,token.vector_norm,token.is_oov,token2.text,token1.similarity(token2))"
   ]
  },
  {
   "cell_type": "code",
   "execution_count": 17,
   "metadata": {},
   "outputs": [],
   "source": [
    "# Import spatial and define a cosine_similarity function\n",
    "from scipy import spatial"
   ]
  },
  {
   "cell_type": "code",
   "execution_count": 23,
   "metadata": {},
   "outputs": [],
   "source": [
    "# Write an expression for vector arithmetic\n",
    "# For example: new_vector = word1 - word2 + word3\n",
    "new_vector = nlp.vocab[\"pandas\"].vector - nlp.vocab[\"lions\"].vector +  nlp.vocab[\"women\"].vector"
   ]
  },
  {
   "cell_type": "code",
   "execution_count": 24,
   "metadata": {},
   "outputs": [
    {
     "name": "stdout",
     "output_type": "stream",
     "text": [
      "['women', 'females', 'girls', 'men', 'female', 'woman', 'ladies', 'pregnant', 'mothers', 'gender']\n"
     ]
    }
   ],
   "source": [
    "# List the top ten closest vectors in the vocabulary to the result of the expression above\n",
    "cosine_similarity = lambda vec1,vec2: - spatial.distance.cosine(vec1,vec2)\n",
    "computed_similarities = []\n",
    "\n",
    "#For all word in my vocab\n",
    "for word in nlp.vocab:\n",
    "    if word.has_vector:\n",
    "        if word.is_lower:\n",
    "            if word.is_alpha:\n",
    "                similarity = cosine_similarity(new_vector,word.vector)\n",
    "                computed_similarities.append((word,similarity))\n",
    "\n",
    "computed_similarities  = sorted(computed_similarities,key=lambda item:-item[1]) #SORT DESC BECAUSE OF THE -1\n",
    "\n",
    "print([t[0].text for t in computed_similarities[:10]]) #top-ten"
   ]
  },
  {
   "cell_type": "markdown",
   "metadata": {},
   "source": [
    "#### CHALLENGE: Write a function that takes in 3 strings, performs a-b+c arithmetic, and returns a top-ten result"
   ]
  },
  {
   "cell_type": "code",
   "execution_count": 25,
   "metadata": {},
   "outputs": [],
   "source": [
    "def vector_math(a,b,c):\n",
    "    new_vector = nlp.vocab[a].vector - nlp.vocab[b].vector +  nlp.vocab[c].vector\n",
    "    cosine_similarity = lambda vec1,vec2: - spatial.distance.cosine(vec1,vec2)\n",
    "    computed_similarities = []\n",
    "\n",
    "    #For all word in my vocab\n",
    "    for word in nlp.vocab:\n",
    "        if word.has_vector:\n",
    "            if word.is_lower:\n",
    "                if word.is_alpha:\n",
    "                    similarity = cosine_similarity(new_vector,word.vector)\n",
    "                    computed_similarities.append((word,similarity))\n",
    "\n",
    "    computed_similarities  = sorted(computed_similarities,key=lambda item:-item[1]) #SORT DESC BECAUSE OF THE -1\n",
    "\n",
    "    return print([t[0].text for t in computed_similarities[:10]]) #top-ten   "
   ]
  },
  {
   "cell_type": "code",
   "execution_count": 26,
   "metadata": {},
   "outputs": [
    {
     "name": "stdout",
     "output_type": "stream",
     "text": [
      "['king', 'queen', 'prince', 'kings', 'princess', 'royal', 'throne', 'queens', 'monarch', 'kingdom']\n"
     ]
    }
   ],
   "source": [
    "# Test the function on known words:\n",
    "vector_math('king','man','woman')"
   ]
  },
  {
   "cell_type": "markdown",
   "metadata": {},
   "source": [
    "## Task #2: Perform VADER Sentiment Analysis on your own review\n",
    "Write code that returns a set of SentimentIntensityAnalyzer polarity scores based on your own written review."
   ]
  },
  {
   "cell_type": "code",
   "execution_count": 9,
   "metadata": {},
   "outputs": [],
   "source": [
    "# Import SentimentIntensityAnalyzer and create an sid object\n",
    "from nltk.sentiment.vader import SentimentIntensityAnalyzer\n",
    "sid = SentimentIntensityAnalyzer()"
   ]
  },
  {
   "cell_type": "code",
   "execution_count": 33,
   "metadata": {},
   "outputs": [],
   "source": [
    "# Write a review as one continuous string (multiple sentences are ok)\n",
    "review = \"This course is awesome! I really like the way of how Jose teaches. He is really a great teacher, I'm learning a lot\"\n",
    "review2 = \"That course is really bad, I didn't like it at all.\""
   ]
  },
  {
   "cell_type": "code",
   "execution_count": 35,
   "metadata": {},
   "outputs": [
    {
     "name": "stdout",
     "output_type": "stream",
     "text": [
      "{'neg': 0.0, 'neu': 0.595, 'pos': 0.405, 'compound': 0.9114}\n",
      "{'neg': 0.435, 'neu': 0.565, 'pos': 0.0, 'compound': -0.7325}\n"
     ]
    }
   ],
   "source": [
    "# Obtain the sid scores for your review\n",
    "print(sid.polarity_scores(review))\n",
    "print(sid.polarity_scores(review2))"
   ]
  },
  {
   "cell_type": "code",
   "execution_count": 27,
   "metadata": {},
   "outputs": [
    {
     "data": {
      "text/plain": [
       "0.9114"
      ]
     },
     "execution_count": 27,
     "metadata": {},
     "output_type": "execute_result"
    }
   ],
   "source": [
    "sid.polarity_scores(review)[\"compound\"]"
   ]
  },
  {
   "cell_type": "markdown",
   "metadata": {},
   "source": [
    "### CHALLENGE: Write a function that takes in a review and returns a score of \"Positive\", \"Negative\" or \"Neutral\""
   ]
  },
  {
   "cell_type": "code",
   "execution_count": 31,
   "metadata": {},
   "outputs": [],
   "source": [
    "def review_rating(string):\n",
    "    if sid.polarity_scores(string)[\"compound\"] > 0:\n",
    "        return \"Positive\"\n",
    "    elif sid.polarity_scores(string)[\"compound\"] == 0:\n",
    "        return \"Neutral\"\n",
    "    else:\n",
    "        return \"Negative\""
   ]
  },
  {
   "cell_type": "code",
   "execution_count": 36,
   "metadata": {},
   "outputs": [
    {
     "name": "stdout",
     "output_type": "stream",
     "text": [
      "Positive\n",
      "Negative\n"
     ]
    }
   ],
   "source": [
    "# Test the function on your review above:\n",
    "print(review_rating(review))\n",
    "print(review_rating(review2))"
   ]
  },
  {
   "cell_type": "markdown",
   "metadata": {},
   "source": [
    "## Great job!"
   ]
  }
 ],
 "metadata": {
  "kernelspec": {
   "display_name": "Python 3",
   "language": "python",
   "name": "python3"
  },
  "language_info": {
   "codemirror_mode": {
    "name": "ipython",
    "version": 3
   },
   "file_extension": ".py",
   "mimetype": "text/x-python",
   "name": "python",
   "nbconvert_exporter": "python",
   "pygments_lexer": "ipython3",
   "version": "3.6.8"
  }
 },
 "nbformat": 4,
 "nbformat_minor": 2
}
