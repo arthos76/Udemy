{
 "cells": [
  {
   "cell_type": "markdown",
   "metadata": {
    "collapsed": true
   },
   "source": [
    "# Statements Assessment Test\n",
    "Let's test your knowledge!"
   ]
  },
  {
   "cell_type": "markdown",
   "metadata": {},
   "source": [
    "_____\n",
    "**Use <code>for</code>, .split(), and <code>if</code> to create a Statement that will print out words that start with 's':**"
   ]
  },
  {
   "cell_type": "code",
<<<<<<< HEAD
   "execution_count": 81,
=======
   "execution_count": null,
>>>>>>> master
   "metadata": {},
   "outputs": [],
   "source": [
    "st = 'Print only the words that start with s in this sentence'"
   ]
  },
  {
   "cell_type": "code",
<<<<<<< HEAD
   "execution_count": 82,
   "metadata": {
    "scrolled": true
   },
   "outputs": [
    {
     "name": "stdout",
     "output_type": "stream",
     "text": [
      "the word start starts with an s\n",
      "the word s starts with an s\n",
      "the word sentence starts with an s\n"
     ]
    }
   ],
   "source": [
    "for word in st.split():\n",
    "    if word.lower().startswith('s'):\n",
    "        print(\"the word {} starts with an s\".format(word))\n",
    "#The other solution is : if word[0].lower() == 's' instead of if word.lower().startswith('s')"
=======
   "execution_count": null,
   "metadata": {},
   "outputs": [],
   "source": [
    "#Code here"
>>>>>>> master
   ]
  },
  {
   "cell_type": "markdown",
   "metadata": {},
   "source": [
    "______\n",
    "**Use range() to print all the even numbers from 0 to 10.**"
   ]
  },
  {
   "cell_type": "code",
<<<<<<< HEAD
   "execution_count": 16,
   "metadata": {},
   "outputs": [
    {
     "name": "stdout",
     "output_type": "stream",
     "text": [
      "0\n",
      "2\n",
      "4\n",
      "6\n",
      "8\n",
      "10\n"
     ]
    }
   ],
   "source": [
    "for numero in range(0,11):\n",
    "    if numero % 2 == 0:\n",
    "        print(numero)\n",
    "\n",
    "#Other solutions: list(range(0,10,2)) ; for numero in range(0,10,2) -> print(numero)"
=======
   "execution_count": null,
   "metadata": {},
   "outputs": [],
   "source": [
    "#Code Here"
>>>>>>> master
   ]
  },
  {
   "cell_type": "markdown",
   "metadata": {},
   "source": [
    "___\n",
    "**Use a List Comprehension to create a list of all numbers between 1 and 50 that are divisible by 3.**"
   ]
  },
  {
   "cell_type": "code",
<<<<<<< HEAD
   "execution_count": 83,
   "metadata": {},
   "outputs": [
    {
     "data": {
      "text/plain": [
       "[3, 6, 9, 12, 15, 18, 21, 24, 27, 30, 33, 36, 39, 42, 45, 48]"
      ]
     },
     "execution_count": 83,
     "metadata": {},
     "output_type": "execute_result"
    }
   ],
   "source": [
    "#Code in this cell\n",
    "[x for x in range(1,51) if x % 3 == 0]"
=======
   "execution_count": null,
   "metadata": {},
   "outputs": [],
   "source": [
    "#Code in this cell\n",
    "[]"
>>>>>>> master
   ]
  },
  {
   "cell_type": "markdown",
   "metadata": {},
   "source": [
    "_____\n",
    "**Go through the string below and if the length of a word is even print \"even!\"**"
   ]
  },
  {
   "cell_type": "code",
   "execution_count": null,
   "metadata": {},
   "outputs": [],
   "source": [
    "st = 'Print every word in this sentence that has an even number of letters'"
   ]
  },
  {
   "cell_type": "code",
<<<<<<< HEAD
   "execution_count": 31,
   "metadata": {},
   "outputs": [
    {
     "name": "stdout",
     "output_type": "stream",
     "text": [
      "The word Print is not even!\n",
      "The word only is even!\n",
      "The word the is not even!\n",
      "The word words is not even!\n",
      "The word that is even!\n",
      "The word start is not even!\n",
      "The word with is even!\n",
      "The word s is not even!\n",
      "The word in is even!\n",
      "The word this is even!\n",
      "The word sentence is even!\n"
     ]
    }
   ],
   "source": [
    "for word in st.split():\n",
    "    if len(word) % 2 == 0:\n",
    "        print(\"The word {} is even!\".format(word))\n",
    "    else:\n",
    "        print(\"The word {} is not even!\".format(word))"
=======
   "execution_count": null,
   "metadata": {},
   "outputs": [],
   "source": [
    "#Code in this cell"
>>>>>>> master
   ]
  },
  {
   "cell_type": "markdown",
   "metadata": {},
   "source": [
    "____\n",
    "**Write a program that prints the integers from 1 to 100. But for multiples of three print \"Fizz\" instead of the number, and for the multiples of five print \"Buzz\". For numbers which are multiples of both three and five print \"FizzBuzz\".**"
   ]
  },
  {
   "cell_type": "code",
<<<<<<< HEAD
   "execution_count": 86,
   "metadata": {
    "scrolled": true
   },
   "outputs": [
    {
     "name": "stdout",
     "output_type": "stream",
     "text": [
      "1\n",
      "2\n",
      "3 is Fizz\n",
      "4\n",
      "5 is Buzz\n",
      "6 is Fizz\n",
      "7\n",
      "8\n",
      "9 is Fizz\n",
      "10 is Buzz\n",
      "11\n",
      "12 is Fizz\n",
      "13\n",
      "14\n",
      "15 is Fizz\n",
      "16\n",
      "17\n",
      "18 is Fizz\n",
      "19\n",
      "20 is Buzz\n",
      "21 is Fizz\n",
      "22\n",
      "23\n",
      "24 is Fizz\n",
      "25 is Buzz\n",
      "26\n",
      "27 is Fizz\n",
      "28\n",
      "29\n",
      "30 is Fizz\n",
      "31\n",
      "32\n",
      "33 is Fizz\n",
      "34\n",
      "35 is Buzz\n",
      "36 is Fizz\n",
      "37\n",
      "38\n",
      "39 is Fizz\n",
      "40 is Buzz\n",
      "41\n",
      "42 is Fizz\n",
      "43\n",
      "44\n",
      "45 is Fizz\n",
      "46\n",
      "47\n",
      "48 is Fizz\n",
      "49\n",
      "50 is Buzz\n",
      "51 is Fizz\n",
      "52\n",
      "53\n",
      "54 is Fizz\n",
      "55 is Buzz\n",
      "56\n",
      "57 is Fizz\n",
      "58\n",
      "59\n",
      "60 is Fizz\n",
      "61\n",
      "62\n",
      "63 is Fizz\n",
      "64\n",
      "65 is Buzz\n",
      "66 is Fizz\n",
      "67\n",
      "68\n",
      "69 is Fizz\n",
      "70 is Buzz\n",
      "71\n",
      "72 is Fizz\n",
      "73\n",
      "74\n",
      "75 is Fizz\n",
      "76\n",
      "77\n",
      "78 is Fizz\n",
      "79\n",
      "80 is Buzz\n",
      "81 is Fizz\n",
      "82\n",
      "83\n",
      "84 is Fizz\n",
      "85 is Buzz\n",
      "86\n",
      "87 is Fizz\n",
      "88\n",
      "89\n",
      "90 is Fizz\n",
      "91\n",
      "92\n",
      "93 is Fizz\n",
      "94\n",
      "95 is Buzz\n",
      "96 is Fizz\n",
      "97\n",
      "98\n",
      "99 is Fizz\n",
      "100 is Buzz\n"
     ]
    }
   ],
   "source": [
    "#Code in this cell\n",
    "for number in range(1,101):\n",
    "    if number % 3 == 0:\n",
    "        print(\"{} is Fizz\".format(number))\n",
    "    elif number % 5 == 0:\n",
    "        print(\"{} is Buzz\".format(number))\n",
    "    elif number % 3 == 0 and number % 5 == 0:\n",
    "        print(\"{} is FizzBuzz\".format(number))\n",
    "    else:\n",
    "        print(number)"
=======
   "execution_count": null,
   "metadata": {},
   "outputs": [],
   "source": [
    "#Code in this cell"
>>>>>>> master
   ]
  },
  {
   "cell_type": "markdown",
   "metadata": {},
   "source": [
    "____\n",
    "**Use List Comprehension to create a list of the first letters of every word in the string below:**"
   ]
  },
  {
   "cell_type": "code",
<<<<<<< HEAD
   "execution_count": 87,
=======
   "execution_count": null,
>>>>>>> master
   "metadata": {},
   "outputs": [],
   "source": [
    "st = 'Create a list of the first letters of every word in this string'"
   ]
  },
  {
   "cell_type": "code",
<<<<<<< HEAD
   "execution_count": 88,
   "metadata": {
    "scrolled": true
   },
   "outputs": [
    {
     "data": {
      "text/plain": [
       "['C', 'a', 'l', 'o', 't', 'f', 'l', 'o', 'e', 'w', 'i', 't', 's']"
      ]
     },
     "execution_count": 88,
     "metadata": {},
     "output_type": "execute_result"
    }
   ],
   "source": [
    "#Code in this cell\n",
    "[x[0] for x in st.split() ]"
=======
   "execution_count": null,
   "metadata": {},
   "outputs": [],
   "source": [
    "#Code in this cell"
>>>>>>> master
   ]
  },
  {
   "cell_type": "markdown",
   "metadata": {},
   "source": [
    "### Great Job!"
   ]
  }
 ],
 "metadata": {
  "kernelspec": {
   "display_name": "Python 3",
   "language": "python",
   "name": "python3"
  },
  "language_info": {
   "codemirror_mode": {
    "name": "ipython",
    "version": 3
   },
   "file_extension": ".py",
   "mimetype": "text/x-python",
   "name": "python",
   "nbconvert_exporter": "python",
   "pygments_lexer": "ipython3",
<<<<<<< HEAD
   "version": "3.6.5"
=======
   "version": "3.6.2"
>>>>>>> master
  }
 },
 "nbformat": 4,
 "nbformat_minor": 1
}
