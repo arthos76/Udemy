{
 "cells": [
  {
   "cell_type": "markdown",
   "metadata": {},
   "source": [
    "# Milestone Project 1: Walkthrough Steps Workbook\n",
    "\n",
    "Below is a set of steps for you to follow to try to create the Tic Tac Toe Milestone Project game!"
   ]
  },
  {
   "cell_type": "markdown",
   "metadata": {},
   "source": [
    "#### Some suggested tools before you get started:\n",
    "To take input from a user:\n",
    "\n",
    "    player1 = input(\"Please pick a marker 'X' or 'O'\")\n",
    "    \n",
    "Note that input() takes in a string. If you need an integer value, use\n",
    "\n",
    "    position = int(input('Please enter a number'))\n",
    "    \n",
    "<br>To clear the screen between moves:\n",
    "\n",
    "    from IPython.display import clear_output\n",
    "    clear_output()\n",
    "    \n",
    "Note that clear_output() will only work in jupyter. To clear the screen in other IDEs, consider:\n",
    "\n",
    "    print('\\n'*100)\n",
    "    \n",
    "This scrolls the previous board up out of view. Now on to the program!"
   ]
  },
  {
   "cell_type": "markdown",
   "metadata": {},
   "source": [
    "**Step 1: Write a function that can print out a board. Set up your board as a list, where each index 1-9 corresponds with a number on a number pad, so you get a 3 by 3 board representation.**"
   ]
  },
  {
   "cell_type": "code",
   "execution_count": 1,
   "metadata": {},
   "outputs": [],
   "source": [
    "from IPython.display import clear_output\n",
    "\n",
    "def display_board(board):\n",
    "    \n",
    "    for a in range(1,len(board),3):\n",
    "        \n",
    "        print(\"\\t |\\t |\\n\\t |\\t |\\n\\t |\\t |\")\n",
    "        print('\\t' + board[a] + '|   ' + board[a+1] + '   | ' + board[a+2])\n",
    "        print(\"     ----------------\")"
   ]
  },
  {
   "cell_type": "markdown",
   "metadata": {},
   "source": [
    "**TEST Step 1:** run your function on a test version of the board list, and make adjustments as necessary"
   ]
  },
  {
   "cell_type": "code",
   "execution_count": 2,
   "metadata": {
    "scrolled": true
   },
   "outputs": [
    {
     "name": "stdout",
     "output_type": "stream",
     "text": [
      "\t |\t |\n",
      "\t |\t |\n",
      "\t |\t |\n",
      "\tX|   O   | X\n",
      "     ----------------\n",
      "\t |\t |\n",
      "\t |\t |\n",
      "\t |\t |\n",
      "\tO|   X   | O\n",
      "     ----------------\n",
      "\t |\t |\n",
      "\t |\t |\n",
      "\t |\t |\n",
      "\tX|   O   | X\n",
      "     ----------------\n"
     ]
    }
   ],
   "source": [
    "test_board = ['#','X','O','X','O','X','O','X','O','X']\n",
    "display_board(test_board)"
   ]
  },
  {
   "cell_type": "markdown",
   "metadata": {},
   "source": [
    "**Step 2: Write a function that can take in a player input and assign their marker as 'X' or 'O'. Think about using *while* loops to continually ask until you get a correct answer.**"
   ]
  },
  {
   "cell_type": "code",
   "execution_count": 3,
   "metadata": {},
   "outputs": [],
   "source": [
    "def player_input():\n",
    "    \n",
    "    marker = list()\n",
    "    \n",
    "    while not (marker == \"X\" or marker ==\"O\"):\n",
    "        marker = input(\"Please player1, pick a marker 'X' or 'O'\\t\").upper()\n",
    "        \n",
    "    if marker == \"X\":\n",
    "        \n",
    "        return ('X','O') # First error: Should be tuples, not list\n",
    "    \n",
    "    else:\n",
    "        return ('O','X')"
   ]
  },
  {
   "cell_type": "markdown",
   "metadata": {},
   "source": [
    "**TEST Step 2:** run the function to make sure it returns the desired output"
   ]
  },
  {
   "cell_type": "code",
   "execution_count": 4,
   "metadata": {},
   "outputs": [
    {
     "name": "stdout",
     "output_type": "stream",
     "text": [
      "Please player1, pick a marker 'X' or 'O'\tX\n"
     ]
    },
    {
     "data": {
      "text/plain": [
       "('X', 'O')"
      ]
     },
     "execution_count": 4,
     "metadata": {},
     "output_type": "execute_result"
    }
   ],
   "source": [
    "player_input()"
   ]
  },
  {
   "cell_type": "markdown",
   "metadata": {},
   "source": [
    "**Step 3: Write a function that takes in the board list object, a marker ('X' or 'O'), and a desired position (number 1-9) and assigns it to the board.**"
   ]
  },
  {
   "cell_type": "code",
   "execution_count": 5,
   "metadata": {},
   "outputs": [],
   "source": [
    "def place_marker(board, marker, position):  \n",
    "\n",
    "    board[position] = marker"
   ]
  },
  {
   "cell_type": "markdown",
   "metadata": {},
   "source": [
    "**TEST Step 3:** run the place marker function using test parameters and display the modified board"
   ]
  },
  {
   "cell_type": "code",
   "execution_count": 6,
   "metadata": {},
   "outputs": [
    {
     "name": "stdout",
     "output_type": "stream",
     "text": [
      "\t |\t |\n",
      "\t |\t |\n",
      "\t |\t |\n",
      "\t$|   O   | X\n",
      "     ----------------\n",
      "\t |\t |\n",
      "\t |\t |\n",
      "\t |\t |\n",
      "\tO|   X   | O\n",
      "     ----------------\n",
      "\t |\t |\n",
      "\t |\t |\n",
      "\t |\t |\n",
      "\tX|   O   | X\n",
      "     ----------------\n"
     ]
    }
   ],
   "source": [
    "place_marker(test_board,'$',1)\n",
    "display_board(test_board)"
   ]
  },
  {
   "cell_type": "markdown",
   "metadata": {},
   "source": [
    "**Step 4: Write a function that takes in a board and a mark (X or O) and then checks to see if that mark has won. **"
   ]
  },
  {
   "cell_type": "code",
   "execution_count": 8,
   "metadata": {},
   "outputs": [],
   "source": [
    "def win_check(board, mark):\n",
    "    \n",
    "    return ((board[7] == mark and board[8] == mark and board[9] == mark) or # across the top\n",
    "\n",
    "            (board[4] == mark and board[5] == mark and board[6] == mark) or # across the middle\n",
    "\n",
    "            (board[1] == mark and board[2] == mark and board[3] == mark) or # across the bottom\n",
    "\n",
    "            (board[7] == mark and board[4] == mark and board[1] == mark) or # down the left side\n",
    "    \n",
    "            (board[8] == mark and board[5] == mark and board[2] == mark) or # down the middle\n",
    "\n",
    "            (board[9] == mark and board[6] == mark and board[3] == mark) or # down the right side\n",
    "\n",
    "            (board[7] == mark and board[5] == mark and board[3] == mark) or # diagonal\n",
    "\n",
    "            (board[9] == mark and board[5] == mark and board[1] == mark)) # diagonal"
   ]
  },
  {
   "cell_type": "markdown",
   "metadata": {},
   "source": [
    "**TEST Step 4:** run the win_check function against our test_board - it should return True"
   ]
  },
  {
   "cell_type": "code",
   "execution_count": 9,
   "metadata": {},
   "outputs": [
    {
     "data": {
      "text/plain": [
       "True"
      ]
     },
     "execution_count": 9,
     "metadata": {},
     "output_type": "execute_result"
    }
   ],
   "source": [
    "win_check(test_board,'X')"
   ]
  },
  {
   "cell_type": "markdown",
   "metadata": {},
   "source": [
    "**Step 5: Write a function that uses the random module to randomly decide which player goes first. You may want to lookup random.randint() Return a string of which player went first.**"
   ]
  },
  {
   "cell_type": "code",
   "execution_count": 10,
   "metadata": {},
   "outputs": [],
   "source": [
    "import random\n",
    "\n",
    "def choose_first():\n",
    "    if random.randint(0,1) == 0:\n",
    "        return \"player1\"\n",
    "    else:\n",
    "        return \"player2\""
   ]
  },
  {
   "cell_type": "code",
   "execution_count": 11,
   "metadata": {},
   "outputs": [
    {
     "data": {
      "text/plain": [
       "'player1'"
      ]
     },
     "execution_count": 11,
     "metadata": {},
     "output_type": "execute_result"
    }
   ],
   "source": [
    "choose_first()"
   ]
  },
  {
   "cell_type": "markdown",
   "metadata": {},
   "source": [
    "**Step 6: Write a function that returns a boolean indicating whether a space on the board is freely available.**"
   ]
  },
  {
   "cell_type": "code",
   "execution_count": 12,
   "metadata": {},
   "outputs": [],
   "source": [
    "def space_check(board, position):\n",
    "    \n",
    "    return board[position] == \" \""
   ]
  },
  {
   "cell_type": "code",
   "execution_count": 13,
   "metadata": {},
   "outputs": [
    {
     "data": {
      "text/plain": [
       "False"
      ]
     },
     "execution_count": 13,
     "metadata": {},
     "output_type": "execute_result"
    }
   ],
   "source": [
    "space_check(test_board,2)"
   ]
  },
  {
   "cell_type": "markdown",
   "metadata": {},
   "source": [
    "**Step 7: Write a function that checks if the board is full and returns a boolean value. True if full, False otherwise.**"
   ]
  },
  {
   "cell_type": "code",
   "execution_count": 14,
   "metadata": {},
   "outputs": [],
   "source": [
    "def full_board_check(board):\n",
    "    for i in range(1,10):\n",
    "        if space_check(board,i):\n",
    "            return False\n",
    "    return True #Error again!"
   ]
  },
  {
   "cell_type": "code",
   "execution_count": 15,
   "metadata": {},
   "outputs": [
    {
     "data": {
      "text/plain": [
       "True"
      ]
     },
     "execution_count": 15,
     "metadata": {},
     "output_type": "execute_result"
    }
   ],
   "source": [
    "full_board_check(test_board)"
   ]
  },
  {
   "cell_type": "markdown",
   "metadata": {},
   "source": [
    "**Step 8: Write a function that asks for a player's next position (as a number 1-9) and then uses the function from step 6 to check if it's a free position. If it is, then return the position for later use.**"
   ]
  },
  {
   "cell_type": "code",
   "execution_count": 16,
   "metadata": {},
   "outputs": [],
   "source": [
    "def player_choice(board):\n",
    "    position = 0\n",
    "\n",
    "    while position not in [1,2,3,4,5,6,7,8,9] or not space_check(board,position): #Second error\n",
    "        \n",
    "                position = int(input('What is your next move? (1-9)'))\n",
    "        \n",
    "    return (position) #Third error!"
   ]
  },
  {
   "cell_type": "code",
   "execution_count": 17,
   "metadata": {
    "scrolled": true
   },
   "outputs": [
    {
     "name": "stdout",
     "output_type": "stream",
     "text": [
      "What is your next move? (1-9)1\n"
     ]
    },
    {
     "ename": "KeyboardInterrupt",
     "evalue": "",
     "output_type": "error",
     "traceback": [
      "\u001b[0;31m---------------------------------------------------------------------------\u001b[0m",
      "\u001b[0;31mKeyboardInterrupt\u001b[0m                         Traceback (most recent call last)",
      "\u001b[0;32m~/anaconda3/lib/python3.6/site-packages/ipykernel/kernelbase.py\u001b[0m in \u001b[0;36m_input_request\u001b[0;34m(self, prompt, ident, parent, password)\u001b[0m\n\u001b[1;32m    728\u001b[0m             \u001b[0;32mtry\u001b[0m\u001b[0;34m:\u001b[0m\u001b[0;34m\u001b[0m\u001b[0m\n\u001b[0;32m--> 729\u001b[0;31m                 \u001b[0mident\u001b[0m\u001b[0;34m,\u001b[0m \u001b[0mreply\u001b[0m \u001b[0;34m=\u001b[0m \u001b[0mself\u001b[0m\u001b[0;34m.\u001b[0m\u001b[0msession\u001b[0m\u001b[0;34m.\u001b[0m\u001b[0mrecv\u001b[0m\u001b[0;34m(\u001b[0m\u001b[0mself\u001b[0m\u001b[0;34m.\u001b[0m\u001b[0mstdin_socket\u001b[0m\u001b[0;34m,\u001b[0m \u001b[0;36m0\u001b[0m\u001b[0;34m)\u001b[0m\u001b[0;34m\u001b[0m\u001b[0m\n\u001b[0m\u001b[1;32m    730\u001b[0m             \u001b[0;32mexcept\u001b[0m \u001b[0mException\u001b[0m\u001b[0;34m:\u001b[0m\u001b[0;34m\u001b[0m\u001b[0m\n",
      "\u001b[0;32m~/anaconda3/lib/python3.6/site-packages/jupyter_client/session.py\u001b[0m in \u001b[0;36mrecv\u001b[0;34m(self, socket, mode, content, copy)\u001b[0m\n\u001b[1;32m    802\u001b[0m         \u001b[0;32mtry\u001b[0m\u001b[0;34m:\u001b[0m\u001b[0;34m\u001b[0m\u001b[0m\n\u001b[0;32m--> 803\u001b[0;31m             \u001b[0mmsg_list\u001b[0m \u001b[0;34m=\u001b[0m \u001b[0msocket\u001b[0m\u001b[0;34m.\u001b[0m\u001b[0mrecv_multipart\u001b[0m\u001b[0;34m(\u001b[0m\u001b[0mmode\u001b[0m\u001b[0;34m,\u001b[0m \u001b[0mcopy\u001b[0m\u001b[0;34m=\u001b[0m\u001b[0mcopy\u001b[0m\u001b[0;34m)\u001b[0m\u001b[0;34m\u001b[0m\u001b[0m\n\u001b[0m\u001b[1;32m    804\u001b[0m         \u001b[0;32mexcept\u001b[0m \u001b[0mzmq\u001b[0m\u001b[0;34m.\u001b[0m\u001b[0mZMQError\u001b[0m \u001b[0;32mas\u001b[0m \u001b[0me\u001b[0m\u001b[0;34m:\u001b[0m\u001b[0;34m\u001b[0m\u001b[0m\n",
      "\u001b[0;32m~/anaconda3/lib/python3.6/site-packages/zmq/sugar/socket.py\u001b[0m in \u001b[0;36mrecv_multipart\u001b[0;34m(self, flags, copy, track)\u001b[0m\n\u001b[1;32m    465\u001b[0m         \"\"\"\n\u001b[0;32m--> 466\u001b[0;31m         \u001b[0mparts\u001b[0m \u001b[0;34m=\u001b[0m \u001b[0;34m[\u001b[0m\u001b[0mself\u001b[0m\u001b[0;34m.\u001b[0m\u001b[0mrecv\u001b[0m\u001b[0;34m(\u001b[0m\u001b[0mflags\u001b[0m\u001b[0;34m,\u001b[0m \u001b[0mcopy\u001b[0m\u001b[0;34m=\u001b[0m\u001b[0mcopy\u001b[0m\u001b[0;34m,\u001b[0m \u001b[0mtrack\u001b[0m\u001b[0;34m=\u001b[0m\u001b[0mtrack\u001b[0m\u001b[0;34m)\u001b[0m\u001b[0;34m]\u001b[0m\u001b[0;34m\u001b[0m\u001b[0m\n\u001b[0m\u001b[1;32m    467\u001b[0m         \u001b[0;31m# have first part already, only loop while more to receive\u001b[0m\u001b[0;34m\u001b[0m\u001b[0;34m\u001b[0m\u001b[0m\n",
      "\u001b[0;32mzmq/backend/cython/socket.pyx\u001b[0m in \u001b[0;36mzmq.backend.cython.socket.Socket.recv\u001b[0;34m()\u001b[0m\n",
      "\u001b[0;32mzmq/backend/cython/socket.pyx\u001b[0m in \u001b[0;36mzmq.backend.cython.socket.Socket.recv\u001b[0;34m()\u001b[0m\n",
      "\u001b[0;32mzmq/backend/cython/socket.pyx\u001b[0m in \u001b[0;36mzmq.backend.cython.socket._recv_copy\u001b[0;34m()\u001b[0m\n",
      "\u001b[0;32m~/anaconda3/lib/python3.6/site-packages/zmq/backend/cython/checkrc.pxd\u001b[0m in \u001b[0;36mzmq.backend.cython.checkrc._check_rc\u001b[0;34m()\u001b[0m\n",
      "\u001b[0;31mKeyboardInterrupt\u001b[0m: ",
      "\nDuring handling of the above exception, another exception occurred:\n",
      "\u001b[0;31mKeyboardInterrupt\u001b[0m                         Traceback (most recent call last)",
      "\u001b[0;32m<ipython-input-17-72130d7eb126>\u001b[0m in \u001b[0;36m<module>\u001b[0;34m()\u001b[0m\n\u001b[0;32m----> 1\u001b[0;31m \u001b[0mplayer_choice\u001b[0m\u001b[0;34m(\u001b[0m\u001b[0mtest_board\u001b[0m\u001b[0;34m)\u001b[0m\u001b[0;34m\u001b[0m\u001b[0m\n\u001b[0m",
      "\u001b[0;32m<ipython-input-16-0ca7f8b66780>\u001b[0m in \u001b[0;36mplayer_choice\u001b[0;34m(board)\u001b[0m\n\u001b[1;32m      5\u001b[0m \u001b[0;34m\u001b[0m\u001b[0m\n\u001b[1;32m      6\u001b[0m \u001b[0;34m\u001b[0m\u001b[0m\n\u001b[0;32m----> 7\u001b[0;31m         \u001b[0mposition\u001b[0m \u001b[0;34m=\u001b[0m \u001b[0mint\u001b[0m\u001b[0;34m(\u001b[0m\u001b[0minput\u001b[0m\u001b[0;34m(\u001b[0m\u001b[0;34m'What is your next move? (1-9)'\u001b[0m\u001b[0;34m)\u001b[0m\u001b[0;34m)\u001b[0m\u001b[0;34m\u001b[0m\u001b[0m\n\u001b[0m\u001b[1;32m      8\u001b[0m \u001b[0;34m\u001b[0m\u001b[0m\n\u001b[1;32m      9\u001b[0m     \u001b[0;32mreturn\u001b[0m \u001b[0;34m(\u001b[0m\u001b[0mposition\u001b[0m\u001b[0;34m)\u001b[0m \u001b[0;31m#Third error!\u001b[0m\u001b[0;34m\u001b[0m\u001b[0m\n",
      "\u001b[0;32m~/anaconda3/lib/python3.6/site-packages/ipykernel/kernelbase.py\u001b[0m in \u001b[0;36mraw_input\u001b[0;34m(self, prompt)\u001b[0m\n\u001b[1;32m    702\u001b[0m             \u001b[0mself\u001b[0m\u001b[0;34m.\u001b[0m\u001b[0m_parent_ident\u001b[0m\u001b[0;34m,\u001b[0m\u001b[0;34m\u001b[0m\u001b[0m\n\u001b[1;32m    703\u001b[0m             \u001b[0mself\u001b[0m\u001b[0;34m.\u001b[0m\u001b[0m_parent_header\u001b[0m\u001b[0;34m,\u001b[0m\u001b[0;34m\u001b[0m\u001b[0m\n\u001b[0;32m--> 704\u001b[0;31m             \u001b[0mpassword\u001b[0m\u001b[0;34m=\u001b[0m\u001b[0;32mFalse\u001b[0m\u001b[0;34m,\u001b[0m\u001b[0;34m\u001b[0m\u001b[0m\n\u001b[0m\u001b[1;32m    705\u001b[0m         )\n\u001b[1;32m    706\u001b[0m \u001b[0;34m\u001b[0m\u001b[0m\n",
      "\u001b[0;32m~/anaconda3/lib/python3.6/site-packages/ipykernel/kernelbase.py\u001b[0m in \u001b[0;36m_input_request\u001b[0;34m(self, prompt, ident, parent, password)\u001b[0m\n\u001b[1;32m    732\u001b[0m             \u001b[0;32mexcept\u001b[0m \u001b[0mKeyboardInterrupt\u001b[0m\u001b[0;34m:\u001b[0m\u001b[0;34m\u001b[0m\u001b[0m\n\u001b[1;32m    733\u001b[0m                 \u001b[0;31m# re-raise KeyboardInterrupt, to truncate traceback\u001b[0m\u001b[0;34m\u001b[0m\u001b[0;34m\u001b[0m\u001b[0m\n\u001b[0;32m--> 734\u001b[0;31m                 \u001b[0;32mraise\u001b[0m \u001b[0mKeyboardInterrupt\u001b[0m\u001b[0;34m\u001b[0m\u001b[0m\n\u001b[0m\u001b[1;32m    735\u001b[0m             \u001b[0;32melse\u001b[0m\u001b[0;34m:\u001b[0m\u001b[0;34m\u001b[0m\u001b[0m\n\u001b[1;32m    736\u001b[0m                 \u001b[0;32mbreak\u001b[0m\u001b[0;34m\u001b[0m\u001b[0m\n",
      "\u001b[0;31mKeyboardInterrupt\u001b[0m: "
     ]
    }
   ],
   "source": [
    "player_choice(test_board)"
   ]
  },
  {
   "cell_type": "markdown",
   "metadata": {},
   "source": [
    "**Step 9: Write a function that asks the player if they want to play again and returns a boolean True if they do want to play again.**"
   ]
  },
  {
   "cell_type": "code",
   "execution_count": 18,
   "metadata": {},
   "outputs": [],
   "source": [
    "def replay():\n",
    "    \n",
    "    replay = input(\"Do you want to play again? \")\n",
    "    \n",
    "    return replay.lower().startswith('y') "
   ]
  },
  {
   "cell_type": "code",
   "execution_count": 19,
   "metadata": {},
   "outputs": [
    {
     "name": "stdout",
     "output_type": "stream",
     "text": [
      "Do you want to play again? y\n"
     ]
    },
    {
     "data": {
      "text/plain": [
       "True"
      ]
     },
     "execution_count": 19,
     "metadata": {},
     "output_type": "execute_result"
    }
   ],
   "source": [
    "replay()"
   ]
  },
  {
   "cell_type": "markdown",
   "metadata": {
    "collapsed": true
   },
   "source": [
    "**Step 10: Here comes the hard part! Use while loops and the functions you've made to run the game!**"
   ]
  },
  {
   "cell_type": "code",
   "execution_count": null,
   "metadata": {},
   "outputs": [
    {
     "name": "stdout",
     "output_type": "stream",
     "text": [
      "Welcome to Tic Tac Toe!\n",
      "Please player1, pick a marker 'X' or 'O'\to\n",
      "The turn of player1 to play!\n",
      "Turn to Player1\n",
      "\t |\t |\n",
      "\t |\t |\n",
      "\t |\t |\n",
      "\t |       |  \n",
      "     ----------------\n",
      "\t |\t |\n",
      "\t |\t |\n",
      "\t |\t |\n",
      "\t |       |  \n",
      "     ----------------\n",
      "\t |\t |\n",
      "\t |\t |\n",
      "\t |\t |\n",
      "\t |       |  \n",
      "     ----------------\n",
      "What is your next move? (1-9)1\n",
      "Turn to player2\n",
      "\t |\t |\n",
      "\t |\t |\n",
      "\t |\t |\n",
      "\tO|       |  \n",
      "     ----------------\n",
      "\t |\t |\n",
      "\t |\t |\n",
      "\t |\t |\n",
      "\t |       |  \n",
      "     ----------------\n",
      "\t |\t |\n",
      "\t |\t |\n",
      "\t |\t |\n",
      "\t |       |  \n",
      "     ----------------\n",
      "What is your next move? (1-9)2\n",
      "Turn to Player1\n",
      "\t |\t |\n",
      "\t |\t |\n",
      "\t |\t |\n",
      "\tO|   X   |  \n",
      "     ----------------\n",
      "\t |\t |\n",
      "\t |\t |\n",
      "\t |\t |\n",
      "\t |       |  \n",
      "     ----------------\n",
      "\t |\t |\n",
      "\t |\t |\n",
      "\t |\t |\n",
      "\t |       |  \n",
      "     ----------------\n",
      "What is your next move? (1-9)3\n",
      "Turn to player2\n",
      "\t |\t |\n",
      "\t |\t |\n",
      "\t |\t |\n",
      "\tO|   X   | O\n",
      "     ----------------\n",
      "\t |\t |\n",
      "\t |\t |\n",
      "\t |\t |\n",
      "\t |       |  \n",
      "     ----------------\n",
      "\t |\t |\n",
      "\t |\t |\n",
      "\t |\t |\n",
      "\t |       |  \n",
      "     ----------------\n",
      "What is your next move? (1-9)4\n",
      "Turn to Player1\n",
      "\t |\t |\n",
      "\t |\t |\n",
      "\t |\t |\n",
      "\tO|   X   | O\n",
      "     ----------------\n",
      "\t |\t |\n",
      "\t |\t |\n",
      "\t |\t |\n",
      "\tX|       |  \n",
      "     ----------------\n",
      "\t |\t |\n",
      "\t |\t |\n",
      "\t |\t |\n",
      "\t |       |  \n",
      "     ----------------\n",
      "What is your next move? (1-9)5\n",
      "Turn to player2\n",
      "\t |\t |\n",
      "\t |\t |\n",
      "\t |\t |\n",
      "\tO|   X   | O\n",
      "     ----------------\n",
      "\t |\t |\n",
      "\t |\t |\n",
      "\t |\t |\n",
      "\tX|   O   |  \n",
      "     ----------------\n",
      "\t |\t |\n",
      "\t |\t |\n",
      "\t |\t |\n",
      "\t |       |  \n",
      "     ----------------\n",
      "What is your next move? (1-9)6\n",
      "Turn to Player1\n",
      "\t |\t |\n",
      "\t |\t |\n",
      "\t |\t |\n",
      "\tO|   X   | O\n",
      "     ----------------\n",
      "\t |\t |\n",
      "\t |\t |\n",
      "\t |\t |\n",
      "\tX|   O   | X\n",
      "     ----------------\n",
      "\t |\t |\n",
      "\t |\t |\n",
      "\t |\t |\n",
      "\t |       |  \n",
      "     ----------------\n",
      "What is your next move? (1-9)8\n",
      "Turn to player2\n",
      "\t |\t |\n",
      "\t |\t |\n",
      "\t |\t |\n",
      "\tO|   X   | O\n",
      "     ----------------\n",
      "\t |\t |\n",
      "\t |\t |\n",
      "\t |\t |\n",
      "\tX|   O   | X\n",
      "     ----------------\n",
      "\t |\t |\n",
      "\t |\t |\n",
      "\t |\t |\n",
      "\t |   O   |  \n",
      "     ----------------\n",
      "What is your next move? (1-9)7\n",
      "Turn to Player1\n",
      "\t |\t |\n",
      "\t |\t |\n",
      "\t |\t |\n",
      "\tO|   X   | O\n",
      "     ----------------\n",
      "\t |\t |\n",
      "\t |\t |\n",
      "\t |\t |\n",
      "\tX|   O   | X\n",
      "     ----------------\n",
      "\t |\t |\n",
      "\t |\t |\n",
      "\t |\t |\n",
      "\tX|   O   |  \n",
      "     ----------------\n",
      "What is your next move? (1-9)9\n",
      "\t |\t |\n",
      "\t |\t |\n",
      "\t |\t |\n",
      "\tO|   X   | O\n",
      "     ----------------\n",
      "\t |\t |\n",
      "\t |\t |\n",
      "\t |\t |\n",
      "\tX|   O   | X\n",
      "     ----------------\n",
      "\t |\t |\n",
      "\t |\t |\n",
      "\t |\t |\n",
      "\tX|   O   | O\n",
      "     ----------------\n",
      "GG WP\n",
      "Do you want to play again? y\n",
      "Please player1, pick a marker 'X' or 'O'\tx\n",
      "The turn of player1 to play!\n",
      "Turn to Player1\n",
      "\t |\t |\n",
      "\t |\t |\n",
      "\t |\t |\n",
      "\t |       |  \n",
      "     ----------------\n",
      "\t |\t |\n",
      "\t |\t |\n",
      "\t |\t |\n",
      "\t |       |  \n",
      "     ----------------\n",
      "\t |\t |\n",
      "\t |\t |\n",
      "\t |\t |\n",
      "\t |       |  \n",
      "     ----------------\n",
      "What is your next move? (1-9)1\n",
      "Turn to player2\n",
      "\t |\t |\n",
      "\t |\t |\n",
      "\t |\t |\n",
      "\tX|       |  \n",
      "     ----------------\n",
      "\t |\t |\n",
      "\t |\t |\n",
      "\t |\t |\n",
      "\t |       |  \n",
      "     ----------------\n",
      "\t |\t |\n",
      "\t |\t |\n",
      "\t |\t |\n",
      "\t |       |  \n",
      "     ----------------\n",
      "What is your next move? (1-9)2\n",
      "Turn to Player1\n",
      "\t |\t |\n",
      "\t |\t |\n",
      "\t |\t |\n",
      "\tX|   O   |  \n",
      "     ----------------\n",
      "\t |\t |\n",
      "\t |\t |\n",
      "\t |\t |\n",
      "\t |       |  \n",
      "     ----------------\n",
      "\t |\t |\n",
      "\t |\t |\n",
      "\t |\t |\n",
      "\t |       |  \n",
      "     ----------------\n",
      "What is your next move? (1-9)3\n",
      "Turn to player2\n",
      "\t |\t |\n",
      "\t |\t |\n",
      "\t |\t |\n",
      "\tX|   O   | X\n",
      "     ----------------\n",
      "\t |\t |\n",
      "\t |\t |\n",
      "\t |\t |\n",
      "\t |       |  \n",
      "     ----------------\n",
      "\t |\t |\n",
      "\t |\t |\n",
      "\t |\t |\n",
      "\t |       |  \n",
      "     ----------------\n",
      "What is your next move? (1-9)5\n",
      "Turn to Player1\n",
      "\t |\t |\n",
      "\t |\t |\n",
      "\t |\t |\n",
      "\tX|   O   | X\n",
      "     ----------------\n",
      "\t |\t |\n",
      "\t |\t |\n",
      "\t |\t |\n",
      "\t |   O   |  \n",
      "     ----------------\n",
      "\t |\t |\n",
      "\t |\t |\n",
      "\t |\t |\n",
      "\t |       |  \n",
      "     ----------------\n",
      "What is your next move? (1-9)4\n",
      "Turn to player2\n",
      "\t |\t |\n",
      "\t |\t |\n",
      "\t |\t |\n",
      "\tX|   O   | X\n",
      "     ----------------\n",
      "\t |\t |\n",
      "\t |\t |\n",
      "\t |\t |\n",
      "\tX|   O   |  \n",
      "     ----------------\n",
      "\t |\t |\n",
      "\t |\t |\n",
      "\t |\t |\n",
      "\t |       |  \n",
      "     ----------------\n",
      "What is your next move? (1-9)6\n",
      "Turn to Player1\n",
      "\t |\t |\n",
      "\t |\t |\n",
      "\t |\t |\n",
      "\tX|   O   | X\n",
      "     ----------------\n",
      "\t |\t |\n",
      "\t |\t |\n",
      "\t |\t |\n",
      "\tX|   O   | O\n",
      "     ----------------\n",
      "\t |\t |\n",
      "\t |\t |\n",
      "\t |\t |\n",
      "\t |       |  \n",
      "     ----------------\n",
      "What is your next move? (1-9)8\n",
      "Turn to player2\n",
      "\t |\t |\n",
      "\t |\t |\n",
      "\t |\t |\n",
      "\tX|   O   | X\n",
      "     ----------------\n",
      "\t |\t |\n",
      "\t |\t |\n",
      "\t |\t |\n",
      "\tX|   O   | O\n",
      "     ----------------\n",
      "\t |\t |\n",
      "\t |\t |\n",
      "\t |\t |\n",
      "\t |   X   |  \n",
      "     ----------------\n",
      "What is your next move? (1-9)7\n",
      "Turn to Player1\n",
      "\t |\t |\n",
      "\t |\t |\n",
      "\t |\t |\n",
      "\tX|   O   | X\n",
      "     ----------------\n",
      "\t |\t |\n",
      "\t |\t |\n",
      "\t |\t |\n",
      "\tX|   O   | O\n",
      "     ----------------\n",
      "\t |\t |\n",
      "\t |\t |\n",
      "\t |\t |\n",
      "\tO|   X   |  \n",
      "     ----------------\n",
      "What is your next move? (1-9)9\n",
      "\t |\t |\n",
      "\t |\t |\n",
      "\t |\t |\n",
      "\tX|   O   | X\n",
      "     ----------------\n",
      "\t |\t |\n",
      "\t |\t |\n",
      "\t |\t |\n",
      "\tX|   O   | O\n",
      "     ----------------\n",
      "\t |\t |\n",
      "\t |\t |\n",
      "\t |\t |\n",
      "\tO|   X   | X\n",
      "     ----------------\n",
      "The game is a tie!\n"
     ]
    }
   ],
   "source": [
    "print('Welcome to Tic Tac Toe!')\n",
    "   \n",
    "while True:\n",
    "    #Set the game up here\n",
    "    board = [' '] * 10\n",
    "    Player1, Player2 = player_input()  \n",
    "    turn = choose_first()\n",
    "\n",
    "    print(\"The turn of \" + turn + \" to play!\")\n",
    "\n",
    "    game_on = True\n",
    "\n",
    "    while game_on:\n",
    "        #Player 1 Turn\n",
    "        if turn == 'player1':\n",
    "            print(\"Turn to Player1\")\n",
    "            display_board(board)\n",
    "            position = player_choice(board)\n",
    "            place_marker(board,Player1,position)\n",
    "                \n",
    "            if win_check(board,Player1):\n",
    "                display_board(board)\n",
    "                print(\"GG WP\")\n",
    "                game_on = False\n",
    "            else:     \n",
    "                if full_board_check(board):\n",
    "                    display_board(board)\n",
    "                    print('The game is a tie!')\n",
    "                    break\n",
    "                else:\n",
    "                    turn = 'player2'\n",
    "        \n",
    "        else:\n",
    "            # Player2's turn.\n",
    "            print(\"Turn to player2\")\n",
    "            \n",
    "            display_board(board)\n",
    "            position = player_choice(board)\n",
    "            place_marker(board,Player2,position)\n",
    "            \n",
    "            if win_check(board,Player2):\n",
    "                display_board(board)\n",
    "                print(\"GG WP\")\n",
    "                game_on = False\n",
    "              \n",
    "            else:\n",
    "                if full_board_check(board):\n",
    "                    display_board(board)\n",
    "                    print('The game is a tie!')\n",
    "                    break\n",
    "                else:\n",
    "                    turn = 'player1'\n",
    "                    \n",
    "    if not replay():\n",
    "        break"
   ]
  },
  {
   "cell_type": "markdown",
   "metadata": {
    "collapsed": true
   },
   "source": [
    "## Good Job!"
   ]
  },
  {
   "cell_type": "code",
   "execution_count": null,
   "metadata": {},
   "outputs": [],
   "source": []
  }
 ],
 "metadata": {
  "kernelspec": {
   "display_name": "Python 3",
   "language": "python",
   "name": "python3"
  },
  "language_info": {
   "codemirror_mode": {
    "name": "ipython",
    "version": 3
   },
   "file_extension": ".py",
   "mimetype": "text/x-python",
   "name": "python",
   "nbconvert_exporter": "python",
   "pygments_lexer": "ipython3",
   "version": "3.6.6"
  }
 },
 "nbformat": 4,
 "nbformat_minor": 1
}
